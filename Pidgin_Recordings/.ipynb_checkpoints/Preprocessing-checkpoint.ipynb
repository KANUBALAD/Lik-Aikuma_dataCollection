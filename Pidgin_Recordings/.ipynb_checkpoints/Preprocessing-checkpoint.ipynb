{
 "cells": [
  {
   "cell_type": "code",
   "execution_count": 23,
   "metadata": {},
   "outputs": [],
   "source": [
    "import os\n",
    "from random import randint, uniform\n",
    "import re\n",
    "import numpy as np\n",
    "import wave\n",
    "import contextlib\n"
   ]
  },
  {
   "cell_type": "markdown",
   "metadata": {},
   "source": [
    "## Calculating recordings lengths"
   ]
  },
  {
   "cell_type": "code",
   "execution_count": 24,
   "metadata": {},
   "outputs": [
    {
     "name": "stdout",
     "output_type": "stream",
     "text": [
      "We have a total of  8069.399249999986  seconds ,  2.2414997916666626  hours\n"
     ]
    }
   ],
   "source": [
    "\n",
    "total = 0\n",
    "corrupted=0\n",
    "files=0\n",
    "for directory in os.listdir(\"./sections/\"):\n",
    "    if os.path.isdir(\"./sections/\"+directory):\n",
    "        for file in os.listdir(\"./sections/\"+directory):\n",
    "            if file.endswith(\".wav\"):\n",
    "                files+=1\n",
    "                fname = \"./sections/\"+directory+\"/\"+file\n",
    "                try:\n",
    "                    with contextlib.closing(wave.open(fname,'r')) as f:\n",
    "                        frames = f.getnframes()\n",
    "                        rate = f.getframerate()\n",
    "                        duration = frames / float(rate)\n",
    "                        total+=duration\n",
    "                except Exception as e:\n",
    "                    corrupted+=1\n",
    "\n",
    "print(\"We have a total of \",total,\" seconds\",\", \",total/(60*60),\" hours\")"
   ]
  },
  {
   "cell_type": "code",
   "execution_count": 25,
   "metadata": {},
   "outputs": [
    {
     "name": "stdout",
     "output_type": "stream",
     "text": [
      "This is the whole files: 1149\n",
      "The corrupted ones are: 88\n"
     ]
    }
   ],
   "source": [
    "print('This is the whole files:',files)\n",
    "print('The corrupted ones are:' , corrupted)"
   ]
  },
  {
   "cell_type": "markdown",
   "metadata": {},
   "source": [
    "# Organizing data"
   ]
  },
  {
   "cell_type": "markdown",
   "metadata": {},
   "source": [
    "### spliting records to train, val and test sets"
   ]
  },
  {
   "cell_type": "code",
   "execution_count": 26,
   "metadata": {},
   "outputs": [],
   "source": [
    "!mkdir data\n",
    "!mkdir data/records"
   ]
  },
  {
   "cell_type": "code",
   "execution_count": 27,
   "metadata": {},
   "outputs": [],
   "source": [
    "# Extracting all the non-corrupted files\n",
    "wav_files = []\n",
    "all_linkers  = dict()\n",
    "for directory in os.listdir(\"./sections/\"): # parent directory of the recordings, it should contain folders that contain wav,json and txt files\n",
    "    if os.path.isdir(\"./sections/\"+directory):\n",
    "        to_remove = []\n",
    "        linker = []\n",
    "\n",
    "        for file in os.listdir(\"./sections/\"+directory):\n",
    "            if file.endswith(\".txt\"):\n",
    "                linker_data = open(\"./sections/\"+directory+\"/\"+file).readlines()\n",
    "                \n",
    "            if file.endswith(\".wav\"):\n",
    "                fname = \"./sections/\"+directory+\"/\"+file\n",
    "                try:\n",
    "                    with contextlib.closing(wave.open(fname,'r')) as f:\n",
    "                        frames = f.getnframes()\n",
    "                        rate = f.getframerate()\n",
    "                        duration = frames / float(rate)\n",
    "                        wav_files.append(fname)\n",
    "                except Exception as e:\n",
    "                    to_remove.append(file)\n",
    "        for file in to_remove:\n",
    "            i=0\n",
    "            while i<len(linker_data):\n",
    "                if file in linker_data[i]:\n",
    "                    linker_data.pop(i)\n",
    "                i+=1\n",
    "        linker.extend(linker_data)\n",
    "        all_linkers[directory] =linker\n",
    "        \n",
    "\n",
    "            "
   ]
  },
  {
   "cell_type": "code",
   "execution_count": 28,
   "metadata": {},
   "outputs": [
    {
     "data": {
      "text/plain": [
       "dict_keys(['section_14', 'section_6', 'section_7', 'section_17', 'section_11', 'section_12', 'section_5', 'section_1', 'section_18', 'section_9', 'section_3', 'section_15', 'section_4', 'section_10', 'section_8', 'section_16', 'section_2', 'section_13'])"
      ]
     },
     "execution_count": 28,
     "metadata": {},
     "output_type": "execute_result"
    }
   ],
   "source": [
    "all_linkers.keys()"
   ]
  },
  {
   "cell_type": "code",
   "execution_count": 29,
   "metadata": {},
   "outputs": [
    {
     "name": "stdout",
     "output_type": "stream",
     "text": [
      "After removing the corrupted files, we have 1061 .wav files left. \n"
     ]
    }
   ],
   "source": [
    "print(\"After removing the corrupted files, we have {} .wav files left. \" . format(len(wav_files)))"
   ]
  },
  {
   "cell_type": "code",
   "execution_count": 30,
   "metadata": {},
   "outputs": [
    {
     "name": "stdout",
     "output_type": "stream",
     "text": [
      "cp: will not overwrite just-created 'data/records/200704-223044_pcm_65e_elicit_13.wav' with './sections/section_18/200704-223044_pcm_65e_elicit_13.wav'\r\n",
      "cp: will not overwrite just-created 'data/records/200704-223044_pcm_65e_elicit_33.wav' with './sections/section_18/200704-223044_pcm_65e_elicit_33.wav'\r\n",
      "cp: will not overwrite just-created 'data/records/200704-223044_pcm_65e_elicit_17.wav' with './sections/section_18/200704-223044_pcm_65e_elicit_17.wav'\r\n",
      "cp: will not overwrite just-created 'data/records/200704-223044_pcm_65e_elicit_20.wav' with './sections/section_18/200704-223044_pcm_65e_elicit_20.wav'\r\n",
      "cp: will not overwrite just-created 'data/records/200704-223044_pcm_65e_elicit_46.wav' with './sections/section_18/200704-223044_pcm_65e_elicit_46.wav'\r\n",
      "cp: will not overwrite just-created 'data/records/200704-223044_pcm_65e_elicit_56.wav' with './sections/section_18/200704-223044_pcm_65e_elicit_56.wav'\r\n",
      "cp: will not overwrite just-created 'data/records/200704-223044_pcm_65e_elicit_37.wav' with './sections/section_18/200704-223044_pcm_65e_elicit_37.wav'\r\n",
      "cp: will not overwrite just-created 'data/records/200704-223044_pcm_65e_elicit_3.wav' with './sections/section_18/200704-223044_pcm_65e_elicit_3.wav'\r\n",
      "cp: will not overwrite just-created 'data/records/200704-223044_pcm_65e_elicit_49.wav' with './sections/section_18/200704-223044_pcm_65e_elicit_49.wav'\r\n",
      "cp: will not overwrite just-created 'data/records/200704-223044_pcm_65e_elicit_15.wav' with './sections/section_18/200704-223044_pcm_65e_elicit_15.wav'\r\n",
      "cp: will not overwrite just-created 'data/records/200704-223044_pcm_65e_elicit_38.wav' with './sections/section_18/200704-223044_pcm_65e_elicit_38.wav'\r\n",
      "cp: will not overwrite just-created 'data/records/200704-223044_pcm_65e_elicit_4.wav' with './sections/section_18/200704-223044_pcm_65e_elicit_4.wav'\r\n",
      "cp: will not overwrite just-created 'data/records/200704-223044_pcm_65e_elicit_6.wav' with './sections/section_18/200704-223044_pcm_65e_elicit_6.wav'\r\n",
      "cp: will not overwrite just-created 'data/records/200704-223044_pcm_65e_elicit_9.wav' with './sections/section_18/200704-223044_pcm_65e_elicit_9.wav'\r\n",
      "cp: will not overwrite just-created 'data/records/200704-223044_pcm_65e_elicit_47.wav' with './sections/section_18/200704-223044_pcm_65e_elicit_47.wav'\r\n",
      "cp: will not overwrite just-created 'data/records/200704-223044_pcm_65e_elicit_21.wav' with './sections/section_18/200704-223044_pcm_65e_elicit_21.wav'\r\n",
      "cp: will not overwrite just-created 'data/records/200704-223044_pcm_65e_elicit_60.wav' with './sections/section_18/200704-223044_pcm_65e_elicit_60.wav'\r\n",
      "cp: will not overwrite just-created 'data/records/200704-223044_pcm_65e_elicit_11.wav' with './sections/section_18/200704-223044_pcm_65e_elicit_11.wav'\r\n",
      "cp: will not overwrite just-created 'data/records/200704-223044_pcm_65e_elicit_7.wav' with './sections/section_18/200704-223044_pcm_65e_elicit_7.wav'\r\n",
      "cp: will not overwrite just-created 'data/records/200704-223044_pcm_65e_elicit_50.wav' with './sections/section_18/200704-223044_pcm_65e_elicit_50.wav'\r\n",
      "cp: will not overwrite just-created 'data/records/200704-223044_pcm_65e_elicit_12.wav' with './sections/section_18/200704-223044_pcm_65e_elicit_12.wav'\r\n",
      "cp: will not overwrite just-created 'data/records/200704-223044_pcm_65e_elicit_25.wav' with './sections/section_18/200704-223044_pcm_65e_elicit_25.wav'\r\n",
      "cp: will not overwrite just-created 'data/records/200704-223044_pcm_65e_elicit_36.wav' with './sections/section_18/200704-223044_pcm_65e_elicit_36.wav'\r\n",
      "cp: will not overwrite just-created 'data/records/200704-223044_pcm_65e_elicit_58.wav' with './sections/section_18/200704-223044_pcm_65e_elicit_58.wav'\r\n",
      "cp: will not overwrite just-created 'data/records/200704-223044_pcm_65e_elicit_5.wav' with './sections/section_18/200704-223044_pcm_65e_elicit_5.wav'\r\n",
      "cp: will not overwrite just-created 'data/records/200704-223044_pcm_65e_elicit_59.wav' with './sections/section_18/200704-223044_pcm_65e_elicit_59.wav'\r\n",
      "cp: will not overwrite just-created 'data/records/200704-223044_pcm_65e_elicit_16.wav' with './sections/section_18/200704-223044_pcm_65e_elicit_16.wav'\r\n",
      "cp: will not overwrite just-created 'data/records/200704-223044_pcm_65e_elicit_43.wav' with './sections/section_18/200704-223044_pcm_65e_elicit_43.wav'\r\n",
      "cp: will not overwrite just-created 'data/records/200704-223044_pcm_65e_elicit_14.wav' with './sections/section_18/200704-223044_pcm_65e_elicit_14.wav'\r\n",
      "cp: will not overwrite just-created 'data/records/200704-223044_pcm_65e_elicit_40.wav' with './sections/section_18/200704-223044_pcm_65e_elicit_40.wav'\r\n",
      "cp: will not overwrite just-created 'data/records/200704-223044_pcm_65e_elicit_39.wav' with './sections/section_18/200704-223044_pcm_65e_elicit_39.wav'\r\n",
      "cp: will not overwrite just-created 'data/records/200704-223044_pcm_65e_elicit_0.wav' with './sections/section_18/200704-223044_pcm_65e_elicit_0.wav'\r\n",
      "cp: will not overwrite just-created 'data/records/200704-223044_pcm_65e_elicit_26.wav' with './sections/section_18/200704-223044_pcm_65e_elicit_26.wav'\r\n",
      "cp: will not overwrite just-created 'data/records/200704-223044_pcm_65e_elicit_28.wav' with './sections/section_18/200704-223044_pcm_65e_elicit_28.wav'\r\n",
      "cp: will not overwrite just-created 'data/records/200704-223044_pcm_65e_elicit_22.wav' with './sections/section_18/200704-223044_pcm_65e_elicit_22.wav'\r\n",
      "cp: will not overwrite just-created 'data/records/200704-223044_pcm_65e_elicit_57.wav' with './sections/section_18/200704-223044_pcm_65e_elicit_57.wav'\r\n",
      "cp: will not overwrite just-created 'data/records/200704-223044_pcm_65e_elicit_8.wav' with './sections/section_18/200704-223044_pcm_65e_elicit_8.wav'\r\n",
      "cp: will not overwrite just-created 'data/records/200704-223044_pcm_65e_elicit_35.wav' with './sections/section_18/200704-223044_pcm_65e_elicit_35.wav'\r\n",
      "cp: will not overwrite just-created 'data/records/200704-223044_pcm_65e_elicit_34.wav' with './sections/section_18/200704-223044_pcm_65e_elicit_34.wav'\r\n",
      "cp: will not overwrite just-created 'data/records/200704-223044_pcm_65e_elicit_52.wav' with './sections/section_18/200704-223044_pcm_65e_elicit_52.wav'\r\n",
      "cp: will not overwrite just-created 'data/records/200704-223044_pcm_65e_elicit_29.wav' with './sections/section_18/200704-223044_pcm_65e_elicit_29.wav'\r\n",
      "cp: will not overwrite just-created 'data/records/200704-223044_pcm_65e_elicit_48.wav' with './sections/section_18/200704-223044_pcm_65e_elicit_48.wav'\r\n",
      "cp: will not overwrite just-created 'data/records/200704-223044_pcm_65e_elicit_51.wav' with './sections/section_18/200704-223044_pcm_65e_elicit_51.wav'\r\n",
      "cp: will not overwrite just-created 'data/records/200704-223044_pcm_65e_elicit_1.wav' with './sections/section_18/200704-223044_pcm_65e_elicit_1.wav'\r\n",
      "cp: will not overwrite just-created 'data/records/200704-223044_pcm_65e_elicit_54.wav' with './sections/section_18/200704-223044_pcm_65e_elicit_54.wav'\r\n",
      "cp: will not overwrite just-created 'data/records/200704-223044_pcm_65e_elicit_44.wav' with './sections/section_18/200704-223044_pcm_65e_elicit_44.wav'\r\n",
      "cp: will not overwrite just-created 'data/records/200704-223044_pcm_65e_elicit_23.wav' with './sections/section_18/200704-223044_pcm_65e_elicit_23.wav'\r\n",
      "cp: will not overwrite just-created 'data/records/200704-223044_pcm_65e_elicit_30.wav' with './sections/section_18/200704-223044_pcm_65e_elicit_30.wav'\r\n",
      "cp: will not overwrite just-created 'data/records/200704-223044_pcm_65e_elicit_2.wav' with './sections/section_18/200704-223044_pcm_65e_elicit_2.wav'\r\n",
      "cp: will not overwrite just-created 'data/records/200704-223044_pcm_65e_elicit_19.wav' with './sections/section_18/200704-223044_pcm_65e_elicit_19.wav'\r\n",
      "cp: will not overwrite just-created 'data/records/200704-223044_pcm_65e_elicit_27.wav' with './sections/section_18/200704-223044_pcm_65e_elicit_27.wav'\r\n",
      "cp: will not overwrite just-created 'data/records/200704-223044_pcm_65e_elicit_42.wav' with './sections/section_18/200704-223044_pcm_65e_elicit_42.wav'\r\n",
      "cp: will not overwrite just-created 'data/records/200704-223044_pcm_65e_elicit_18.wav' with './sections/section_18/200704-223044_pcm_65e_elicit_18.wav'\r\n",
      "cp: will not overwrite just-created 'data/records/200704-223044_pcm_65e_elicit_31.wav' with './sections/section_18/200704-223044_pcm_65e_elicit_31.wav'\r\n",
      "cp: will not overwrite just-created 'data/records/200704-223044_pcm_65e_elicit_45.wav' with './sections/section_18/200704-223044_pcm_65e_elicit_45.wav'\r\n",
      "cp: will not overwrite just-created 'data/records/200704-223044_pcm_65e_elicit_24.wav' with './sections/section_18/200704-223044_pcm_65e_elicit_24.wav'\r\n",
      "cp: will not overwrite just-created 'data/records/200704-223044_pcm_65e_elicit_10.wav' with './sections/section_18/200704-223044_pcm_65e_elicit_10.wav'\r\n",
      "cp: will not overwrite just-created 'data/records/200704-223044_pcm_65e_elicit_55.wav' with './sections/section_18/200704-223044_pcm_65e_elicit_55.wav'\r\n",
      "cp: will not overwrite just-created 'data/records/200704-223044_pcm_65e_elicit_32.wav' with './sections/section_18/200704-223044_pcm_65e_elicit_32.wav'\r\n"
     ]
    },
    {
     "name": "stdout",
     "output_type": "stream",
     "text": [
      "cp: will not overwrite just-created 'data/records/200703-124427_pcm_65e_elicit_46.wav' with './sections/section_13/200703-124427_pcm_65e_elicit_46.wav'\r\n",
      "cp: will not overwrite just-created 'data/records/200703-124427_pcm_65e_elicit_3.wav' with './sections/section_13/200703-124427_pcm_65e_elicit_3.wav'\r\n",
      "cp: will not overwrite just-created 'data/records/200703-124427_pcm_65e_elicit_43.wav' with './sections/section_13/200703-124427_pcm_65e_elicit_43.wav'\r\n",
      "cp: will not overwrite just-created 'data/records/200703-124427_pcm_65e_elicit_5.wav' with './sections/section_13/200703-124427_pcm_65e_elicit_5.wav'\r\n",
      "cp: will not overwrite just-created 'data/records/200703-124427_pcm_65e_elicit_56.wav' with './sections/section_13/200703-124427_pcm_65e_elicit_56.wav'\r\n",
      "cp: will not overwrite just-created 'data/records/200703-124427_pcm_65e_elicit_71.wav' with './sections/section_13/200703-124427_pcm_65e_elicit_71.wav'\r\n",
      "cp: will not overwrite just-created 'data/records/200703-124427_pcm_65e_elicit_66.wav' with './sections/section_13/200703-124427_pcm_65e_elicit_66.wav'\r\n",
      "cp: will not overwrite just-created 'data/records/200703-124427_pcm_65e_elicit_17.wav' with './sections/section_13/200703-124427_pcm_65e_elicit_17.wav'\r\n",
      "cp: will not overwrite just-created 'data/records/200703-124427_pcm_65e_elicit_41.wav' with './sections/section_13/200703-124427_pcm_65e_elicit_41.wav'\r\n",
      "cp: will not overwrite just-created 'data/records/200703-124427_pcm_65e_elicit_34.wav' with './sections/section_13/200703-124427_pcm_65e_elicit_34.wav'\r\n",
      "cp: will not overwrite just-created 'data/records/200703-124427_pcm_65e_elicit_11.wav' with './sections/section_13/200703-124427_pcm_65e_elicit_11.wav'\r\n",
      "cp: will not overwrite just-created 'data/records/200703-124427_pcm_65e_elicit_25.wav' with './sections/section_13/200703-124427_pcm_65e_elicit_25.wav'\r\n",
      "cp: will not overwrite just-created 'data/records/200703-124427_pcm_65e_elicit_39.wav' with './sections/section_13/200703-124427_pcm_65e_elicit_39.wav'\r\n",
      "cp: will not overwrite just-created 'data/records/200703-124427_pcm_65e_elicit_76.wav' with './sections/section_13/200703-124427_pcm_65e_elicit_76.wav'\r\n",
      "cp: will not overwrite just-created 'data/records/200703-124427_pcm_65e_elicit_20.wav' with './sections/section_13/200703-124427_pcm_65e_elicit_20.wav'\r\n",
      "cp: will not overwrite just-created 'data/records/200703-124427_pcm_65e_elicit_72.wav' with './sections/section_13/200703-124427_pcm_65e_elicit_72.wav'\r\n",
      "cp: will not overwrite just-created 'data/records/200703-124427_pcm_65e_elicit_70.wav' with './sections/section_13/200703-124427_pcm_65e_elicit_70.wav'\r\n",
      "cp: will not overwrite just-created 'data/records/200703-124427_pcm_65e_elicit_23.wav' with './sections/section_13/200703-124427_pcm_65e_elicit_23.wav'\r\n",
      "cp: will not overwrite just-created 'data/records/200703-124427_pcm_65e_elicit_62.wav' with './sections/section_13/200703-124427_pcm_65e_elicit_62.wav'\r\n",
      "cp: will not overwrite just-created 'data/records/200703-124427_pcm_65e_elicit_16.wav' with './sections/section_13/200703-124427_pcm_65e_elicit_16.wav'\r\n",
      "cp: will not overwrite just-created 'data/records/200703-124427_pcm_65e_elicit_78.wav' with './sections/section_13/200703-124427_pcm_65e_elicit_78.wav'\r\n",
      "cp: will not overwrite just-created 'data/records/200703-124427_pcm_65e_elicit_75.wav' with './sections/section_13/200703-124427_pcm_65e_elicit_75.wav'\r\n",
      "cp: will not overwrite just-created 'data/records/200703-124427_pcm_65e_elicit_51.wav' with './sections/section_13/200703-124427_pcm_65e_elicit_51.wav'\r\n",
      "cp: will not overwrite just-created 'data/records/200703-124427_pcm_65e_elicit_26.wav' with './sections/section_13/200703-124427_pcm_65e_elicit_26.wav'\r\n",
      "cp: will not overwrite just-created 'data/records/200703-124427_pcm_65e_elicit_14.wav' with './sections/section_13/200703-124427_pcm_65e_elicit_14.wav'\r\n",
      "cp: will not overwrite just-created 'data/records/200703-124427_pcm_65e_elicit_80.wav' with './sections/section_13/200703-124427_pcm_65e_elicit_80.wav'\r\n",
      "cp: will not overwrite just-created 'data/records/200703-124427_pcm_65e_elicit_48.wav' with './sections/section_13/200703-124427_pcm_65e_elicit_48.wav'\r\n",
      "cp: will not overwrite just-created 'data/records/200703-124427_pcm_65e_elicit_22.wav' with './sections/section_13/200703-124427_pcm_65e_elicit_22.wav'\r\n",
      "cp: will not overwrite just-created 'data/records/200703-124427_pcm_65e_elicit_47.wav' with './sections/section_13/200703-124427_pcm_65e_elicit_47.wav'\r\n",
      "cp: will not overwrite just-created 'data/records/200703-124427_pcm_65e_elicit_60.wav' with './sections/section_13/200703-124427_pcm_65e_elicit_60.wav'\r\n",
      "cp: will not overwrite just-created 'data/records/200703-124427_pcm_65e_elicit_6.wav' with './sections/section_13/200703-124427_pcm_65e_elicit_6.wav'\r\n",
      "cp: will not overwrite just-created 'data/records/200703-124427_pcm_65e_elicit_59.wav' with './sections/section_13/200703-124427_pcm_65e_elicit_59.wav'\r\n",
      "cp: will not overwrite just-created 'data/records/200703-124427_pcm_65e_elicit_57.wav' with './sections/section_13/200703-124427_pcm_65e_elicit_57.wav'\r\n",
      "cp: will not overwrite just-created 'data/records/200703-124427_pcm_65e_elicit_64.wav' with './sections/section_13/200703-124427_pcm_65e_elicit_64.wav'\r\n",
      "cp: will not overwrite just-created 'data/records/200703-124427_pcm_65e_elicit_13.wav' with './sections/section_13/200703-124427_pcm_65e_elicit_13.wav'\r\n",
      "cp: will not overwrite just-created 'data/records/200703-124427_pcm_65e_elicit_37.wav' with './sections/section_13/200703-124427_pcm_65e_elicit_37.wav'\r\n",
      "cp: will not overwrite just-created 'data/records/200703-124427_pcm_65e_elicit_29.wav' with './sections/section_13/200703-124427_pcm_65e_elicit_29.wav'\r\n",
      "cp: will not overwrite just-created 'data/records/200703-124427_pcm_65e_elicit_7.wav' with './sections/section_13/200703-124427_pcm_65e_elicit_7.wav'\r\n",
      "cp: will not overwrite just-created 'data/records/200703-124427_pcm_65e_elicit_68.wav' with './sections/section_13/200703-124427_pcm_65e_elicit_68.wav'\r\n",
      "cp: will not overwrite just-created 'data/records/200703-124427_pcm_65e_elicit_61.wav' with './sections/section_13/200703-124427_pcm_65e_elicit_61.wav'\r\n",
      "cp: will not overwrite just-created 'data/records/200703-124427_pcm_65e_elicit_30.wav' with './sections/section_13/200703-124427_pcm_65e_elicit_30.wav'\r\n",
      "cp: will not overwrite just-created 'data/records/200703-124427_pcm_65e_elicit_77.wav' with './sections/section_13/200703-124427_pcm_65e_elicit_77.wav'\r\n",
      "cp: will not overwrite just-created 'data/records/200703-124427_pcm_65e_elicit_55.wav' with './sections/section_13/200703-124427_pcm_65e_elicit_55.wav'\r\n",
      "cp: will not overwrite just-created 'data/records/200703-124427_pcm_65e_elicit_2.wav' with './sections/section_13/200703-124427_pcm_65e_elicit_2.wav'\r\n",
      "cp: will not overwrite just-created 'data/records/200703-124427_pcm_65e_elicit_1.wav' with './sections/section_13/200703-124427_pcm_65e_elicit_1.wav'\r\n",
      "cp: will not overwrite just-created 'data/records/200703-124427_pcm_65e_elicit_18.wav' with './sections/section_13/200703-124427_pcm_65e_elicit_18.wav'\r\n",
      "cp: will not overwrite just-created 'data/records/200703-124427_pcm_65e_elicit_45.wav' with './sections/section_13/200703-124427_pcm_65e_elicit_45.wav'\r\n",
      "cp: will not overwrite just-created 'data/records/200703-124427_pcm_65e_elicit_8.wav' with './sections/section_13/200703-124427_pcm_65e_elicit_8.wav'\r\n",
      "cp: will not overwrite just-created 'data/records/200703-124427_pcm_65e_elicit_58.wav' with './sections/section_13/200703-124427_pcm_65e_elicit_58.wav'\r\n",
      "cp: will not overwrite just-created 'data/records/200703-124427_pcm_65e_elicit_10.wav' with './sections/section_13/200703-124427_pcm_65e_elicit_10.wav'\r\n",
      "cp: will not overwrite just-created 'data/records/200703-124427_pcm_65e_elicit_74.wav' with './sections/section_13/200703-124427_pcm_65e_elicit_74.wav'\r\n",
      "cp: will not overwrite just-created 'data/records/200703-124427_pcm_65e_elicit_4.wav' with './sections/section_13/200703-124427_pcm_65e_elicit_4.wav'\r\n",
      "cp: will not overwrite just-created 'data/records/200703-124427_pcm_65e_elicit_81.wav' with './sections/section_13/200703-124427_pcm_65e_elicit_81.wav'\r\n",
      "cp: will not overwrite just-created 'data/records/200703-124427_pcm_65e_elicit_15.wav' with './sections/section_13/200703-124427_pcm_65e_elicit_15.wav'\r\n",
      "cp: will not overwrite just-created 'data/records/200703-124427_pcm_65e_elicit_44.wav' with './sections/section_13/200703-124427_pcm_65e_elicit_44.wav'\r\n",
      "cp: will not overwrite just-created 'data/records/200703-124427_pcm_65e_elicit_82.wav' with './sections/section_13/200703-124427_pcm_65e_elicit_82.wav'\r\n",
      "cp: will not overwrite just-created 'data/records/200703-124427_pcm_65e_elicit_65.wav' with './sections/section_13/200703-124427_pcm_65e_elicit_65.wav'\r\n",
      "cp: will not overwrite just-created 'data/records/200703-124427_pcm_65e_elicit_12.wav' with './sections/section_13/200703-124427_pcm_65e_elicit_12.wav'\r\n",
      "cp: will not overwrite just-created 'data/records/200703-124427_pcm_65e_elicit_31.wav' with './sections/section_13/200703-124427_pcm_65e_elicit_31.wav'\r\n",
      "cp: will not overwrite just-created 'data/records/200703-124427_pcm_65e_elicit_9.wav' with './sections/section_13/200703-124427_pcm_65e_elicit_9.wav'\r\n",
      "cp: will not overwrite just-created 'data/records/200703-124427_pcm_65e_elicit_35.wav' with './sections/section_13/200703-124427_pcm_65e_elicit_35.wav'\r\n",
      "cp: will not overwrite just-created 'data/records/200703-124427_pcm_65e_elicit_27.wav' with './sections/section_13/200703-124427_pcm_65e_elicit_27.wav'\r\n",
      "cp: will not overwrite just-created 'data/records/200703-124427_pcm_65e_elicit_69.wav' with './sections/section_13/200703-124427_pcm_65e_elicit_69.wav'\r\n",
      "cp: will not overwrite just-created 'data/records/200703-124427_pcm_65e_elicit_36.wav' with './sections/section_13/200703-124427_pcm_65e_elicit_36.wav'\r\n",
      "cp: will not overwrite just-created 'data/records/200703-124427_pcm_65e_elicit_52.wav' with './sections/section_13/200703-124427_pcm_65e_elicit_52.wav'\r\n",
      "cp: will not overwrite just-created 'data/records/200703-124427_pcm_65e_elicit_49.wav' with './sections/section_13/200703-124427_pcm_65e_elicit_49.wav'\r\n",
      "cp: will not overwrite just-created 'data/records/200703-124427_pcm_65e_elicit_50.wav' with './sections/section_13/200703-124427_pcm_65e_elicit_50.wav'\r\n",
      "cp: will not overwrite just-created 'data/records/200703-124427_pcm_65e_elicit_19.wav' with './sections/section_13/200703-124427_pcm_65e_elicit_19.wav'\r\n",
      "cp: will not overwrite just-created 'data/records/200703-124427_pcm_65e_elicit_63.wav' with './sections/section_13/200703-124427_pcm_65e_elicit_63.wav'\r\n",
      "cp: will not overwrite just-created 'data/records/200703-124427_pcm_65e_elicit_24.wav' with './sections/section_13/200703-124427_pcm_65e_elicit_24.wav'\r\n",
      "cp: will not overwrite just-created 'data/records/200703-124427_pcm_65e_elicit_42.wav' with './sections/section_13/200703-124427_pcm_65e_elicit_42.wav'\r\n",
      "cp: will not overwrite just-created 'data/records/200703-124427_pcm_65e_elicit_40.wav' with './sections/section_13/200703-124427_pcm_65e_elicit_40.wav'\r\n",
      "cp: will not overwrite just-created 'data/records/200703-124427_pcm_65e_elicit_79.wav' with './sections/section_13/200703-124427_pcm_65e_elicit_79.wav'\r\n",
      "cp: will not overwrite just-created 'data/records/200703-124427_pcm_65e_elicit_38.wav' with './sections/section_13/200703-124427_pcm_65e_elicit_38.wav'\r\n",
      "cp: will not overwrite just-created 'data/records/200703-124427_pcm_65e_elicit_21.wav' with './sections/section_13/200703-124427_pcm_65e_elicit_21.wav'\r\n",
      "cp: will not overwrite just-created 'data/records/200703-124427_pcm_65e_elicit_54.wav' with './sections/section_13/200703-124427_pcm_65e_elicit_54.wav'\r\n"
     ]
    }
   ],
   "source": [
    "to_copy = \" \".join(wav_files)\n",
    "!cp -t data/records/ {to_copy}"
   ]
  },
  {
   "cell_type": "code",
   "execution_count": 31,
   "metadata": {},
   "outputs": [],
   "source": [
    "for section,linker in all_linkers.items():\n",
    "    for i,link in enumerate(linker):\n",
    "        line = link.split(\";\")[0].split(\"(\")[1].split(\")\")[0].strip()\n",
    "        wav = link.split(\";\")[1].strip().split(\"/\")[-1]\n",
    "        linker[i] = wav+\":\"+line\n"
   ]
  },
  {
   "cell_type": "code",
   "execution_count": 32,
   "metadata": {},
   "outputs": [],
   "source": [
    "out_linker = open(\"./data/linker.txt\",\"w\")\n",
    "out_linker.write(\"\\n\".join(linker))\n",
    "out_linker.close()"
   ]
  },
  {
   "cell_type": "code",
   "execution_count": 33,
   "metadata": {},
   "outputs": [],
   "source": [
    "!mkdir ./data/records/train\n",
    "!mkdir ./data/records/test\n",
    "!mkdir ./data/records/val\n"
   ]
  },
  {
   "cell_type": "code",
   "execution_count": 34,
   "metadata": {},
   "outputs": [],
   "source": [
    "import numpy as np\n",
    "np.random.seed(0)\n",
    "indices = np.random.permutation(len(wav_files))\n",
    "\n",
    "test_idx = indices[:len(indices)//2]\n",
    "validation_portion = int(len(indices)//2 * 0.2)\n",
    "train_idx = indices[len(indices)//2:-validation_portion]\n",
    "valid_idx = indices[-validation_portion:]"
   ]
  },
  {
   "cell_type": "code",
   "execution_count": 35,
   "metadata": {},
   "outputs": [],
   "source": [
    "train_set_files = [wav_files[i].split(\"/\")[-1] for i in train_idx]\n",
    "valid_set_files = [wav_files[i].split(\"/\")[-1] for i in valid_idx]\n",
    "test_set_files = [wav_files[i].split(\"/\")[-1] for i in test_idx]"
   ]
  },
  {
   "cell_type": "code",
   "execution_count": 36,
   "metadata": {},
   "outputs": [],
   "source": [
    "to_copy_train = \"./data/records/\" + \" ./data/records/\".join(train_set_files)\n",
    "to_copy_valid = \"./data/records/\" + \" ./data/records/\".join(valid_set_files)\n",
    "to_copy_test = \"./data/records/\" + \" ./data/records/\".join(test_set_files)"
   ]
  },
  {
   "cell_type": "code",
   "execution_count": 37,
   "metadata": {},
   "outputs": [
    {
     "name": "stdout",
     "output_type": "stream",
     "text": [
      "mv: cannot stat './data/records/200704-223044_pcm_65e_elicit_37.wav': No such file or directory\n",
      "mv: cannot stat './data/records/200703-124427_pcm_65e_elicit_9.wav': No such file or directory\n",
      "mv: cannot stat './data/records/200703-124427_pcm_65e_elicit_69.wav': No such file or directory\n",
      "mv: cannot stat './data/records/200704-223044_pcm_65e_elicit_20.wav': No such file or directory\n",
      "mv: cannot stat './data/records/200704-223044_pcm_65e_elicit_22.wav': No such file or directory\n",
      "mv: cannot stat './data/records/200704-223044_pcm_65e_elicit_14.wav': No such file or directory\n",
      "mv: cannot stat './data/records/200703-124427_pcm_65e_elicit_71.wav': No such file or directory\n",
      "mv: cannot stat './data/records/200704-223044_pcm_65e_elicit_34.wav': No such file or directory\n",
      "mv: cannot stat './data/records/200704-223044_pcm_65e_elicit_26.wav': No such file or directory\n",
      "mv: cannot stat './data/records/200703-124427_pcm_65e_elicit_52.wav': No such file or directory\n",
      "mv: cannot stat './data/records/200703-124427_pcm_65e_elicit_56.wav': No such file or directory\n",
      "mv: cannot stat './data/records/200703-124427_pcm_65e_elicit_40.wav': No such file or directory\n",
      "mv: cannot stat './data/records/200703-124427_pcm_65e_elicit_76.wav': No such file or directory\n",
      "mv: cannot stat './data/records/200704-223044_pcm_65e_elicit_24.wav': No such file or directory\n",
      "mv: cannot stat './data/records/200703-124427_pcm_65e_elicit_79.wav': No such file or directory\n",
      "mv: cannot stat './data/records/200704-223044_pcm_65e_elicit_43.wav': No such file or directory\n",
      "mv: cannot stat './data/records/200703-124427_pcm_65e_elicit_36.wav': No such file or directory\n",
      "mv: cannot stat './data/records/200703-124427_pcm_65e_elicit_50.wav': No such file or directory\n",
      "mv: cannot stat './data/records/200704-223044_pcm_65e_elicit_51.wav': No such file or directory\n",
      "mv: cannot stat './data/records/200704-223044_pcm_65e_elicit_54.wav': No such file or directory\n",
      "mv: cannot stat './data/records/200703-124427_pcm_65e_elicit_47.wav': No such file or directory\n",
      "mv: cannot stat './data/records/200703-124427_pcm_65e_elicit_18.wav': No such file or directory\n",
      "mv: cannot stat './data/records/200703-124427_pcm_65e_elicit_8.wav': No such file or directory\n",
      "mv: cannot stat './data/records/200704-223044_pcm_65e_elicit_23.wav': No such file or directory\n",
      "mv: cannot stat './data/records/200703-124427_pcm_65e_elicit_20.wav': No such file or directory\n",
      "mv: cannot stat './data/records/200703-124427_pcm_65e_elicit_31.wav': No such file or directory\n",
      "mv: cannot stat './data/records/200704-223044_pcm_65e_elicit_29.wav': No such file or directory\n",
      "mv: cannot stat './data/records/200703-124427_pcm_65e_elicit_7.wav': No such file or directory\n",
      "mv: cannot stat './data/records/200703-124427_pcm_65e_elicit_46.wav': No such file or directory\n",
      "mv: cannot stat './data/records/200704-223044_pcm_65e_elicit_44.wav': No such file or directory\n",
      "mv: cannot stat './data/records/200703-124427_pcm_65e_elicit_61.wav': No such file or directory\n",
      "mv: cannot stat './data/records/200704-223044_pcm_65e_elicit_15.wav': No such file or directory\n",
      "mv: cannot stat './data/records/200703-124427_pcm_65e_elicit_43.wav': No such file or directory\n",
      "mv: cannot stat './data/records/200704-223044_pcm_65e_elicit_60.wav': No such file or directory\n",
      "mv: cannot stat './data/records/200703-124427_pcm_65e_elicit_6.wav': No such file or directory\n",
      "mv: cannot stat './data/records/200704-223044_pcm_65e_elicit_30.wav': No such file or directory\n",
      "mv: cannot stat './data/records/200703-124427_pcm_65e_elicit_26.wav': No such file or directory\n",
      "mv: cannot stat './data/records/200704-223044_pcm_65e_elicit_18.wav': No such file or directory\n",
      "mv: cannot stat './data/records/200704-223044_pcm_65e_elicit_7.wav': No such file or directory\n",
      "mv: cannot stat './data/records/200703-124427_pcm_65e_elicit_23.wav': No such file or directory\n",
      "mv: cannot stat './data/records/200703-124427_pcm_65e_elicit_39.wav': No such file or directory\n",
      "mv: cannot stat './data/records/200703-124427_pcm_65e_elicit_42.wav': No such file or directory\n",
      "mv: cannot stat './data/records/200703-124427_pcm_65e_elicit_15.wav': No such file or directory\n",
      "mv: cannot stat './data/records/200704-223044_pcm_65e_elicit_1.wav': No such file or directory\n",
      "mv: cannot stat './data/records/200703-124427_pcm_65e_elicit_17.wav': No such file or directory\n",
      "mv: cannot stat './data/records/200703-124427_pcm_65e_elicit_48.wav': No such file or directory\n",
      "mv: cannot stat './data/records/200704-223044_pcm_65e_elicit_52.wav': No such file or directory\n",
      "mv: cannot stat './data/records/200703-124427_pcm_65e_elicit_75.wav': No such file or directory\n",
      "mv: cannot stat './data/records/200704-223044_pcm_65e_elicit_59.wav': No such file or directory\n",
      "mv: cannot stat './data/records/200703-124427_pcm_65e_elicit_37.wav': No such file or directory\n",
      "mv: cannot stat './data/records/200704-223044_pcm_65e_elicit_3.wav': No such file or directory\n",
      "mv: cannot stat './data/records/200703-124427_pcm_65e_elicit_16.wav': No such file or directory\n",
      "mv: cannot stat './data/records/200703-124427_pcm_65e_elicit_66.wav': No such file or directory\n",
      "mv: cannot stat './data/records/200704-223044_pcm_65e_elicit_57.wav': No such file or directory\n",
      "mv: cannot stat './data/records/200703-124427_pcm_65e_elicit_21.wav': No such file or directory\n",
      "mv: cannot stat './data/records/200704-223044_pcm_65e_elicit_58.wav': No such file or directory\n",
      "mv: cannot stat './data/records/200704-223044_pcm_65e_elicit_16.wav': No such file or directory\n",
      "mv: cannot stat './data/records/200704-223044_pcm_65e_elicit_32.wav': No such file or directory\n",
      "mv: cannot stat './data/records/200703-124427_pcm_65e_elicit_55.wav': No such file or directory\n",
      "mv: cannot stat './data/records/200703-124427_pcm_65e_elicit_68.wav': No such file or directory\n",
      "mv: cannot stat './data/records/200704-223044_pcm_65e_elicit_55.wav': No such file or directory\n",
      "mv: cannot stat './data/records/200703-124427_pcm_65e_elicit_3.wav': No such file or directory\n",
      "mv: cannot stat './data/records/200703-124427_pcm_65e_elicit_59.wav': No such file or directory\n",
      "mv: cannot stat './data/records/200704-223044_pcm_65e_elicit_33.wav': No such file or directory\n",
      "mv: cannot stat './data/records/200703-124427_pcm_65e_elicit_44.wav': No such file or directory\n",
      "mv: cannot stat './data/records/200703-124427_pcm_65e_elicit_1.wav': No such file or directory\n",
      "mv: cannot stat './data/records/200704-223044_pcm_65e_elicit_5.wav': No such file or directory\n",
      "mv: cannot stat './data/records/200704-223044_pcm_65e_elicit_27.wav': No such file or directory\n",
      "mv: cannot stat './data/records/200703-124427_pcm_65e_elicit_5.wav': No such file or directory\n",
      "mv: cannot stat './data/records/200703-124427_pcm_65e_elicit_54.wav': No such file or directory\n",
      "mv: cannot stat './data/records/200703-124427_pcm_65e_elicit_30.wav': No such file or directory\n",
      "mv: cannot stat './data/records/200703-124427_pcm_65e_elicit_2.wav': No such file or directory\n",
      "mv: cannot stat './data/records/200703-124427_pcm_65e_elicit_49.wav': No such file or directory\n",
      "mv: cannot stat './data/records/200704-223044_pcm_65e_elicit_35.wav': No such file or directory\n",
      "mv: cannot stat './data/records/200704-223044_pcm_65e_elicit_4.wav': No such file or directory\n",
      "mv: cannot stat './data/records/200704-223044_pcm_65e_elicit_56.wav': No such file or directory\n",
      "mv: cannot stat './data/records/200703-124427_pcm_65e_elicit_62.wav': No such file or directory\n",
      "mv: cannot stat './data/records/200703-124427_pcm_65e_elicit_64.wav': No such file or directory\n",
      "mv: cannot stat './data/records/200703-124427_pcm_65e_elicit_74.wav': No such file or directory\n",
      "mv: cannot stat './data/records/200704-223044_pcm_65e_elicit_31.wav': No such file or directory\n",
      "mv: cannot stat './data/records/200703-124427_pcm_65e_elicit_60.wav': No such file or directory\n",
      "mv: cannot stat './data/records/200703-124427_pcm_65e_elicit_81.wav': No such file or directory\n",
      "mv: cannot stat './data/records/200704-223044_pcm_65e_elicit_38.wav': No such file or directory\n",
      "mv: cannot stat './data/records/200704-223044_pcm_65e_elicit_28.wav': No such file or directory\n",
      "mv: cannot stat './data/records/200703-124427_pcm_65e_elicit_22.wav': No such file or directory\n",
      "mv: cannot stat './data/records/200703-124427_pcm_65e_elicit_13.wav': No such file or directory\n",
      "mv: cannot stat './data/records/200703-124427_pcm_65e_elicit_78.wav': No such file or directory\n",
      "mv: cannot stat './data/records/200704-223044_pcm_65e_elicit_42.wav': No such file or directory\n",
      "mv: cannot stat './data/records/200704-223044_pcm_65e_elicit_21.wav': No such file or directory\n",
      "mv: cannot stat './data/records/200703-124427_pcm_65e_elicit_41.wav': No such file or directory\n",
      "mv: cannot stat './data/records/200704-223044_pcm_65e_elicit_36.wav': No such file or directory\n",
      "mv: cannot stat './data/records/200703-124427_pcm_65e_elicit_70.wav': No such file or directory\n",
      "mv: cannot stat './data/records/200703-124427_pcm_65e_elicit_82.wav': No such file or directory\n",
      "mv: cannot stat './data/records/200704-223044_pcm_65e_elicit_11.wav': No such file or directory\n",
      "mv: cannot stat './data/records/200703-124427_pcm_65e_elicit_25.wav': No such file or directory\n",
      "mv: cannot stat './data/records/200703-124427_pcm_65e_elicit_80.wav': No such file or directory\n",
      "mv: cannot stat './data/records/200704-223044_pcm_65e_elicit_13.wav': No such file or directory\n",
      "mv: cannot stat './data/records/200703-124427_pcm_65e_elicit_35.wav': No such file or directory\n",
      "mv: cannot stat './data/records/200704-223044_pcm_65e_elicit_8.wav': No such file or directory\n",
      "mv: cannot stat './data/records/200704-223044_pcm_65e_elicit_12.wav': No such file or directory\n",
      "mv: cannot stat './data/records/200703-124427_pcm_65e_elicit_58.wav': No such file or directory\n",
      "mv: cannot stat './data/records/200703-124427_pcm_65e_elicit_51.wav': No such file or directory\n",
      "mv: cannot stat './data/records/200704-223044_pcm_65e_elicit_40.wav': No such file or directory\n",
      "mv: cannot stat './data/records/200703-124427_pcm_65e_elicit_27.wav': No such file or directory\n",
      "mv: cannot stat './data/records/200704-223044_pcm_65e_elicit_19.wav': No such file or directory\n",
      "mv: cannot stat './data/records/200703-124427_pcm_65e_elicit_63.wav': No such file or directory\n",
      "mv: cannot stat './data/records/200703-124427_pcm_65e_elicit_29.wav': No such file or directory\n",
      "mv: cannot stat './data/records/200703-124427_pcm_65e_elicit_10.wav': No such file or directory\n",
      "mv: cannot stat './data/records/200704-223044_pcm_65e_elicit_9.wav': No such file or directory\n",
      "mv: cannot stat './data/records/200704-223044_pcm_65e_elicit_39.wav': No such file or directory\n",
      "mv: cannot stat './data/records/200703-124427_pcm_65e_elicit_14.wav': No such file or directory\n",
      "mv: cannot stat './data/records/200703-124427_pcm_65e_elicit_77.wav': No such file or directory\n",
      "mv: cannot stat './data/records/200703-124427_pcm_65e_elicit_24.wav': No such file or directory\n",
      "mv: cannot stat './data/records/200704-223044_pcm_65e_elicit_48.wav': No such file or directory\n",
      "mv: cannot stat './data/records/200704-223044_pcm_65e_elicit_6.wav': No such file or directory\n",
      "mv: cannot stat './data/records/200703-124427_pcm_65e_elicit_34.wav': No such file or directory\n",
      "mv: cannot stat './data/records/200704-223044_pcm_65e_elicit_17.wav': No such file or directory\n",
      "mv: cannot stat './data/records/200703-124427_pcm_65e_elicit_65.wav': No such file or directory\n",
      "mv: cannot stat './data/records/200704-223044_pcm_65e_elicit_50.wav': No such file or directory\n",
      "mv: cannot stat './data/records/200704-223044_pcm_65e_elicit_45.wav': No such file or directory\n",
      "mv: cannot stat './data/records/200704-223044_pcm_65e_elicit_47.wav': No such file or directory\n",
      "mv: cannot stat './data/records/200704-223044_pcm_65e_elicit_49.wav': No such file or directory\n",
      "mv: cannot stat './data/records/200704-223044_pcm_65e_elicit_0.wav': No such file or directory\n",
      "mv: cannot stat './data/records/200703-124427_pcm_65e_elicit_19.wav': No such file or directory\n",
      "mv: cannot stat './data/records/200703-124427_pcm_65e_elicit_72.wav': No such file or directory\n",
      "mv: cannot stat './data/records/200703-124427_pcm_65e_elicit_45.wav': No such file or directory\n",
      "mv: cannot stat './data/records/200704-223044_pcm_65e_elicit_46.wav': No such file or directory\n",
      "mv: cannot stat './data/records/200704-223044_pcm_65e_elicit_10.wav': No such file or directory\n",
      "mv: cannot stat './data/records/200704-223044_pcm_65e_elicit_25.wav': No such file or directory\n",
      "mv: cannot stat './data/records/200703-124427_pcm_65e_elicit_11.wav': No such file or directory\n",
      "mv: cannot stat './data/records/200703-124427_pcm_65e_elicit_12.wav': No such file or directory\n",
      "mv: cannot stat './data/records/200703-124427_pcm_65e_elicit_4.wav': No such file or directory\n",
      "mv: cannot stat './data/records/200703-124427_pcm_65e_elicit_57.wav': No such file or directory\n",
      "mv: cannot stat './data/records/200703-124427_pcm_65e_elicit_38.wav': No such file or directory\n",
      "mv: cannot stat './data/records/200704-223044_pcm_65e_elicit_2.wav': No such file or directory\n"
     ]
    }
   ],
   "source": [
    "!mv -t data/records/train/ {to_copy_train}\n",
    "!mv -t data/records/val/ {to_copy_valid}\n",
    "!mv -t data/records/test/ {to_copy_test}"
   ]
  },
  {
   "cell_type": "markdown",
   "metadata": {},
   "source": [
    "### making of chars.txt file"
   ]
  },
  {
   "cell_type": "code",
   "execution_count": 38,
   "metadata": {},
   "outputs": [
    {
     "ename": "FileNotFoundError",
     "evalue": "[Errno 2] No such file or directory: './text_files/section15.txt'",
     "output_type": "error",
     "traceback": [
      "\u001b[0;31m---------------------------------------------------------------------------\u001b[0m",
      "\u001b[0;31mFileNotFoundError\u001b[0m                         Traceback (most recent call last)",
      "\u001b[0;32m<ipython-input-38-eaa9588b5add>\u001b[0m in \u001b[0;36m<module>\u001b[0;34m()\u001b[0m\n\u001b[1;32m      5\u001b[0m \u001b[0;32mfor\u001b[0m \u001b[0msection_id\u001b[0m\u001b[0;34m,\u001b[0m\u001b[0mlinker\u001b[0m \u001b[0;32min\u001b[0m \u001b[0mall_linkers\u001b[0m\u001b[0;34m.\u001b[0m\u001b[0mitems\u001b[0m\u001b[0;34m(\u001b[0m\u001b[0;34m)\u001b[0m\u001b[0;34m:\u001b[0m\u001b[0;34m\u001b[0m\u001b[0;34m\u001b[0m\u001b[0m\n\u001b[1;32m      6\u001b[0m     \u001b[0msection_id\u001b[0m \u001b[0;34m=\u001b[0m \u001b[0mre\u001b[0m\u001b[0;34m.\u001b[0m\u001b[0msub\u001b[0m\u001b[0;34m(\u001b[0m\u001b[0;34m\"_\"\u001b[0m\u001b[0;34m,\u001b[0m\u001b[0;34m\"\"\u001b[0m\u001b[0;34m,\u001b[0m\u001b[0msection_id\u001b[0m\u001b[0;34m)\u001b[0m\u001b[0;34m+\u001b[0m\u001b[0;34m\".txt\"\u001b[0m\u001b[0;34m\u001b[0m\u001b[0;34m\u001b[0m\u001b[0m\n\u001b[0;32m----> 7\u001b[0;31m     \u001b[0mtext_file\u001b[0m \u001b[0;34m=\u001b[0m \u001b[0mopen\u001b[0m\u001b[0;34m(\u001b[0m\u001b[0;34m\"./text_files/\"\u001b[0m\u001b[0;34m+\u001b[0m\u001b[0msection_id\u001b[0m\u001b[0;34m,\u001b[0m\u001b[0;34m\"r\"\u001b[0m\u001b[0;34m)\u001b[0m\u001b[0;34m.\u001b[0m\u001b[0mreadlines\u001b[0m\u001b[0;34m(\u001b[0m\u001b[0;34m)\u001b[0m \u001b[0;31m# Modify this to the directory of your txt file that you recorded with\u001b[0m\u001b[0;34m\u001b[0m\u001b[0;34m\u001b[0m\u001b[0m\n\u001b[0m\u001b[1;32m      8\u001b[0m \u001b[0;34m\u001b[0m\u001b[0m\n\u001b[1;32m      9\u001b[0m     \u001b[0;32mfor\u001b[0m \u001b[0mlink\u001b[0m \u001b[0;32min\u001b[0m \u001b[0mlinker\u001b[0m\u001b[0;34m:\u001b[0m\u001b[0;34m\u001b[0m\u001b[0;34m\u001b[0m\u001b[0m\n",
      "\u001b[0;31mFileNotFoundError\u001b[0m: [Errno 2] No such file or directory: './text_files/section15.txt'"
     ]
    }
   ],
   "source": [
    "import re\n",
    "chars = {\" \":1,\"ε\":0}\n",
    "text_data = []\n",
    "char_idx = 2\n",
    "for section_id,linker in all_linkers.items():\n",
    "    section_id = re.sub(\"_\",\"\",section_id)+\".txt\"\n",
    "    text_file = open(\"./text_files/\"+section_id,\"r\").readlines() # Modify this to the directory of your txt file that you recorded with\n",
    "    \n",
    "    for link in linker:\n",
    "        file,idx = link.split(\":\")[0],int(link.split(\":\")[1].split(\" \")[1])-1\n",
    "        line = text_file[idx]\n",
    "        line = line.split(\"##\")[0].strip()\n",
    "        #line = re.sub(\"[\\[\\]|٪%«»_ـ]\",\"\",line) # Clean unnecessary characters from the data, this is for arabic\n",
    "        line = re.sub(\"[—\\u200b]\",\"\",line) # Clean unnecessary characters from the data, this is for arabic\n",
    "        text_data.append((line,file.split(\".\")[0]))\n",
    "        char_set = set(line)\n",
    "        for c in char_set:\n",
    "            if c not in chars:\n",
    "                chars[c]=char_idx\n",
    "                char_idx+=1\n",
    "            "
   ]
  },
  {
   "cell_type": "code",
   "execution_count": 39,
   "metadata": {
    "scrolled": true
   },
   "outputs": [],
   "source": [
    "raw_text = \"\\n\".join([wav+\":\"+line for line,wav in text_data])\n",
    "with open(\"data/raw_text_file.txt\",\"w\") as f:\n",
    "    f.write(raw_text)\n"
   ]
  },
  {
   "cell_type": "code",
   "execution_count": 40,
   "metadata": {},
   "outputs": [],
   "source": [
    "indices_text = []\n",
    "for line,wav in text_data:\n",
    "    line = list(line)\n",
    "    indicies = []\n",
    "    for c in line:\n",
    "        indicies.append(str(chars[c]))\n",
    "    indices_text.append(wav+\" \"+\" \".join(indicies))\n"
   ]
  },
  {
   "cell_type": "code",
   "execution_count": 41,
   "metadata": {},
   "outputs": [
    {
     "data": {
      "text/plain": [
       "72"
      ]
     },
     "execution_count": 41,
     "metadata": {},
     "output_type": "execute_result"
    }
   ],
   "source": [
    "len(chars)"
   ]
  },
  {
   "cell_type": "code",
   "execution_count": 42,
   "metadata": {},
   "outputs": [
    {
     "data": {
      "text/plain": [
       "{' ': 1,\n",
       " 'ε': 0,\n",
       " 'r': 2,\n",
       " 'k': 3,\n",
       " 'x': 4,\n",
       " '.': 5,\n",
       " 'o': 6,\n",
       " 's': 7,\n",
       " 'u': 8,\n",
       " 'w': 9,\n",
       " 'i': 10,\n",
       " 'l': 11,\n",
       " 'g': 12,\n",
       " 'a': 13,\n",
       " 'n': 14,\n",
       " 'y': 15,\n",
       " 'e': 16,\n",
       " 'h': 17,\n",
       " 'J': 18,\n",
       " 't': 19,\n",
       " 'T': 20,\n",
       " 'b': 21,\n",
       " 'p': 22,\n",
       " 'd': 23,\n",
       " 'E': 24,\n",
       " 'v': 25,\n",
       " 'm': 26,\n",
       " 'c': 27,\n",
       " 'B': 28,\n",
       " 'f': 29,\n",
       " 'N': 30,\n",
       " 'M': 31,\n",
       " 'S': 32,\n",
       " 'L': 33,\n",
       " 'G': 34,\n",
       " 'I': 35,\n",
       " 'W': 36,\n",
       " '“': 37,\n",
       " 'R': 38,\n",
       " 'z': 39,\n",
       " 'F': 40,\n",
       " 'P': 41,\n",
       " 'D': 42,\n",
       " 'q': 43,\n",
       " 'C': 44,\n",
       " 'j': 45,\n",
       " '-': 46,\n",
       " 'H': 47,\n",
       " 'Y': 48,\n",
       " 'O': 49,\n",
       " 'V': 50,\n",
       " 'A': 51,\n",
       " ',': 52,\n",
       " '”': 53,\n",
       " '?': 54,\n",
       " 'K': 55,\n",
       " ':': 56,\n",
       " '!': 57,\n",
       " '’': 58,\n",
       " '‘': 59,\n",
       " '1': 60,\n",
       " '6': 61,\n",
       " '2': 62,\n",
       " ')': 63,\n",
       " '(': 64,\n",
       " 'U': 65,\n",
       " '0': 66,\n",
       " '3': 67,\n",
       " '4': 68,\n",
       " '7': 69,\n",
       " '5': 70,\n",
       " '9': 71}"
      ]
     },
     "execution_count": 42,
     "metadata": {},
     "output_type": "execute_result"
    }
   ],
   "source": [
    "chars"
   ]
  },
  {
   "cell_type": "code",
   "execution_count": 22,
   "metadata": {},
   "outputs": [],
   "source": [
    "indicies_text = \"\\n\".join(indices_text)\n",
    "with open(\"data/chars.txt\",\"w\") as f:\n",
    "    f.write(indicies_text)"
   ]
  },
  {
   "cell_type": "code",
   "execution_count": 23,
   "metadata": {},
   "outputs": [],
   "source": [
    "with open(\"data/charset.txt\",\"w\") as js:\n",
    "    js.write(str(chars))"
   ]
  },
  {
   "cell_type": "code",
   "execution_count": 24,
   "metadata": {},
   "outputs": [],
   "source": [
    "with open(\"data/charset.txt\") as js:\n",
    "    charset = eval(js.read())"
   ]
  },
  {
   "cell_type": "code",
   "execution_count": 25,
   "metadata": {},
   "outputs": [
    {
     "data": {
      "text/plain": [
       "{' ': 1,\n",
       " 'ε': 0,\n",
       " 'g': 2,\n",
       " 'y': 3,\n",
       " 't': 4,\n",
       " 's': 5,\n",
       " 'a': 6,\n",
       " 'u': 7,\n",
       " 'n': 8,\n",
       " 'b': 9,\n",
       " 'e': 10,\n",
       " 'T': 11,\n",
       " 'i': 12,\n",
       " 'x': 13,\n",
       " 'w': 14,\n",
       " 'p': 15,\n",
       " '.': 16,\n",
       " 'l': 17,\n",
       " 'h': 18,\n",
       " 'k': 19,\n",
       " 'o': 20,\n",
       " 'r': 21,\n",
       " 'J': 22,\n",
       " 'm': 23,\n",
       " 'd': 24,\n",
       " 'E': 25,\n",
       " 'v': 26,\n",
       " 'c': 27,\n",
       " 'f': 28,\n",
       " 'B': 29,\n",
       " 'N': 30,\n",
       " 'M': 31,\n",
       " 'S': 32,\n",
       " 'L': 33,\n",
       " 'G': 34,\n",
       " 'I': 35,\n",
       " 'W': 36,\n",
       " '“': 37,\n",
       " 'R': 38,\n",
       " 'z': 39,\n",
       " 'F': 40,\n",
       " 'P': 41,\n",
       " 'D': 42,\n",
       " 'q': 43,\n",
       " 'C': 44,\n",
       " 'j': 45,\n",
       " '-': 46,\n",
       " 'Y': 47,\n",
       " 'H': 48,\n",
       " 'O': 49,\n",
       " 'V': 50,\n",
       " 'A': 51,\n",
       " 'U': 52,\n",
       " 'K': 53,\n",
       " '0': 54,\n",
       " '3': 55,\n",
       " '1': 56,\n",
       " '4': 57,\n",
       " ',': 58,\n",
       " '2': 59,\n",
       " '7': 60,\n",
       " '5': 61,\n",
       " '9': 62}"
      ]
     },
     "execution_count": 25,
     "metadata": {},
     "output_type": "execute_result"
    }
   ],
   "source": [
    "charset"
   ]
  },
  {
   "cell_type": "code",
   "execution_count": 2,
   "metadata": {},
   "outputs": [
    {
     "name": "stdout",
     "output_type": "stream",
     "text": [
      "200702-204305_pcm_65e_elicit_66 \n",
      "\n"
     ]
    }
   ],
   "source": [
    "file  = open(\"./data_speech/chars.txt\").readlines()\n",
    "for line in file:\n",
    "    if len(line.split())<2:\n",
    "        print(line)"
   ]
  },
  {
   "cell_type": "code",
   "execution_count": null,
   "metadata": {},
   "outputs": [],
   "source": []
  }
 ],
 "metadata": {
  "kernelspec": {
   "display_name": "Python 3",
   "language": "python",
   "name": "python3"
  },
  "language_info": {
   "codemirror_mode": {
    "name": "ipython",
    "version": 3
   },
   "file_extension": ".py",
   "mimetype": "text/x-python",
   "name": "python",
   "nbconvert_exporter": "python",
   "pygments_lexer": "ipython3",
   "version": "3.7.3"
  }
 },
 "nbformat": 4,
 "nbformat_minor": 4
}
