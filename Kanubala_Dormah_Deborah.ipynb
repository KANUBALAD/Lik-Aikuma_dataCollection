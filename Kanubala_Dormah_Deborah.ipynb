{
  "nbformat": 4,
  "nbformat_minor": 0,
  "metadata": {
    "accelerator": "GPU",
    "colab": {
      "name": "Kanubala_Dormah_Deborah.ipynb",
      "provenance": [],
      "collapsed_sections": [],
      "toc_visible": true
    },
    "kernelspec": {
      "display_name": "Python 3",
      "language": "python",
      "name": "python3"
    },
    "language_info": {
      "codemirror_mode": {
        "name": "ipython",
        "version": 3
      },
      "file_extension": ".py",
      "mimetype": "text/x-python",
      "name": "python",
      "nbconvert_exporter": "python",
      "pygments_lexer": "ipython3",
      "version": "3.7.3"
    }
  },
  "cells": [
    {
      "cell_type": "code",
      "metadata": {
        "id": "izoulkRJFcup",
        "colab_type": "code",
        "colab": {
          "base_uri": "https://localhost:8080/",
          "height": 35
        },
        "outputId": "e5c9f018-45a4-4c97-d572-3e1a36d82603"
      },
      "source": [
        "from google.colab import drive\n",
        "drive.mount('/content/gdrive')"
      ],
      "execution_count": 64,
      "outputs": [
        {
          "output_type": "stream",
          "text": [
            "Drive already mounted at /content/gdrive; to attempt to forcibly remount, call drive.mount(\"/content/gdrive\", force_remount=True).\n"
          ],
          "name": "stdout"
        }
      ]
    },
    {
      "cell_type": "code",
      "metadata": {
        "id": "BnvKA91fFgyK",
        "colab_type": "code",
        "colab": {
          "base_uri": "https://localhost:8080/",
          "height": 400
        },
        "outputId": "11cc1a1d-932f-40e4-d2a2-93ec9064721e"
      },
      "source": [
        "!pip install torchaudio\n",
        "!pip install PyDrive\n",
        "!pip install soundfile"
      ],
      "execution_count": 65,
      "outputs": [
        {
          "output_type": "stream",
          "text": [
            "Requirement already satisfied: torchaudio in /usr/local/lib/python3.6/dist-packages (0.5.1)\n",
            "Requirement already satisfied: torch==1.5.1 in /usr/local/lib/python3.6/dist-packages (from torchaudio) (1.5.1+cu101)\n",
            "Requirement already satisfied: future in /usr/local/lib/python3.6/dist-packages (from torch==1.5.1->torchaudio) (0.16.0)\n",
            "Requirement already satisfied: numpy in /usr/local/lib/python3.6/dist-packages (from torch==1.5.1->torchaudio) (1.18.5)\n",
            "Requirement already satisfied: PyDrive in /usr/local/lib/python3.6/dist-packages (1.3.1)\n",
            "Requirement already satisfied: google-api-python-client>=1.2 in /usr/local/lib/python3.6/dist-packages (from PyDrive) (1.7.12)\n",
            "Requirement already satisfied: oauth2client>=4.0.0 in /usr/local/lib/python3.6/dist-packages (from PyDrive) (4.1.3)\n",
            "Requirement already satisfied: PyYAML>=3.0 in /usr/local/lib/python3.6/dist-packages (from PyDrive) (3.13)\n",
            "Requirement already satisfied: httplib2<1dev,>=0.17.0 in /usr/local/lib/python3.6/dist-packages (from google-api-python-client>=1.2->PyDrive) (0.17.4)\n",
            "Requirement already satisfied: six<2dev,>=1.6.1 in /usr/local/lib/python3.6/dist-packages (from google-api-python-client>=1.2->PyDrive) (1.12.0)\n",
            "Requirement already satisfied: google-auth>=1.4.1 in /usr/local/lib/python3.6/dist-packages (from google-api-python-client>=1.2->PyDrive) (1.17.2)\n",
            "Requirement already satisfied: google-auth-httplib2>=0.0.3 in /usr/local/lib/python3.6/dist-packages (from google-api-python-client>=1.2->PyDrive) (0.0.3)\n",
            "Requirement already satisfied: uritemplate<4dev,>=3.0.0 in /usr/local/lib/python3.6/dist-packages (from google-api-python-client>=1.2->PyDrive) (3.0.1)\n",
            "Requirement already satisfied: pyasn1>=0.1.7 in /usr/local/lib/python3.6/dist-packages (from oauth2client>=4.0.0->PyDrive) (0.4.8)\n",
            "Requirement already satisfied: pyasn1-modules>=0.0.5 in /usr/local/lib/python3.6/dist-packages (from oauth2client>=4.0.0->PyDrive) (0.2.8)\n",
            "Requirement already satisfied: rsa>=3.1.4 in /usr/local/lib/python3.6/dist-packages (from oauth2client>=4.0.0->PyDrive) (4.6)\n",
            "Requirement already satisfied: setuptools>=40.3.0 in /usr/local/lib/python3.6/dist-packages (from google-auth>=1.4.1->google-api-python-client>=1.2->PyDrive) (47.3.1)\n",
            "Requirement already satisfied: cachetools<5.0,>=2.0.0 in /usr/local/lib/python3.6/dist-packages (from google-auth>=1.4.1->google-api-python-client>=1.2->PyDrive) (4.1.0)\n",
            "Requirement already satisfied: soundfile in /usr/local/lib/python3.6/dist-packages (0.10.3.post1)\n",
            "Requirement already satisfied: cffi>=1.0 in /usr/local/lib/python3.6/dist-packages (from soundfile) (1.14.0)\n",
            "Requirement already satisfied: pycparser in /usr/local/lib/python3.6/dist-packages (from cffi>=1.0->soundfile) (2.20)\n"
          ],
          "name": "stdout"
        }
      ]
    },
    {
      "cell_type": "code",
      "metadata": {
        "colab_type": "code",
        "id": "jzzuGAMna4NG",
        "colab": {}
      },
      "source": [
        "from pydrive.auth import GoogleAuth\n",
        "from pydrive.drive import GoogleDrive\n",
        "from google.colab import auth\n",
        "from oauth2client.client import GoogleCredentials\n",
        "auth.authenticate_user()\n",
        "gauth = GoogleAuth()\n",
        "gauth.credentials = GoogleCredentials.get_application_default()\n",
        "drive = GoogleDrive(gauth)"
      ],
      "execution_count": 66,
      "outputs": []
    },
    {
      "cell_type": "code",
      "metadata": {
        "id": "a-hQWM54HG0R",
        "colab_type": "code",
        "colab": {
          "base_uri": "https://localhost:8080/",
          "height": 121
        },
        "outputId": "e46c7ba3-5237-4ec0-d8b9-0101cb8a7e70"
      },
      "source": [
        "! git clone https://github.com/facebookresearch/CPC_audio.git"
      ],
      "execution_count": 67,
      "outputs": [
        {
          "output_type": "stream",
          "text": [
            "Cloning into 'CPC_audio'...\n",
            "remote: Enumerating objects: 84, done.\u001b[K\n",
            "remote: Counting objects:   1% (1/84)\u001b[K\rremote: Counting objects:   2% (2/84)\u001b[K\rremote: Counting objects:   3% (3/84)\u001b[K\rremote: Counting objects:   4% (4/84)\u001b[K\rremote: Counting objects:   5% (5/84)\u001b[K\rremote: Counting objects:   7% (6/84)\u001b[K\rremote: Counting objects:   8% (7/84)\u001b[K\rremote: Counting objects:   9% (8/84)\u001b[K\rremote: Counting objects:  10% (9/84)\u001b[K\rremote: Counting objects:  11% (10/84)\u001b[K\rremote: Counting objects:  13% (11/84)\u001b[K\rremote: Counting objects:  14% (12/84)\u001b[K\rremote: Counting objects:  15% (13/84)\u001b[K\rremote: Counting objects:  16% (14/84)\u001b[K\rremote: Counting objects:  17% (15/84)\u001b[K\rremote: Counting objects:  19% (16/84)\u001b[K\rremote: Counting objects:  20% (17/84)\u001b[K\rremote: Counting objects:  21% (18/84)\u001b[K\rremote: Counting objects:  22% (19/84)\u001b[K\rremote: Counting objects:  23% (20/84)\u001b[K\rremote: Counting objects:  25% (21/84)\u001b[K\rremote: Counting objects:  26% (22/84)\u001b[K\rremote: Counting objects:  27% (23/84)\u001b[K\rremote: Counting objects:  28% (24/84)\u001b[K\rremote: Counting objects:  29% (25/84)\u001b[K\rremote: Counting objects:  30% (26/84)\u001b[K\rremote: Counting objects:  32% (27/84)\u001b[K\rremote: Counting objects:  33% (28/84)\u001b[K\rremote: Counting objects:  34% (29/84)\u001b[K\rremote: Counting objects:  35% (30/84)\u001b[K\rremote: Counting objects:  36% (31/84)\u001b[K\rremote: Counting objects:  38% (32/84)\u001b[K\rremote: Counting objects:  39% (33/84)\u001b[K\rremote: Counting objects:  40% (34/84)\u001b[K\rremote: Counting objects:  41% (35/84)\u001b[K\rremote: Counting objects:  42% (36/84)\u001b[K\rremote: Counting objects:  44% (37/84)\u001b[K\rremote: Counting objects:  45% (38/84)\u001b[K\rremote: Counting objects:  46% (39/84)\u001b[K\rremote: Counting objects:  47% (40/84)\u001b[K\rremote: Counting objects:  48% (41/84)\u001b[K\rremote: Counting objects:  50% (42/84)\u001b[K\rremote: Counting objects:  51% (43/84)\u001b[K\rremote: Counting objects:  52% (44/84)\u001b[K\rremote: Counting objects:  53% (45/84)\u001b[K\rremote: Counting objects:  54% (46/84)\u001b[K\rremote: Counting objects:  55% (47/84)\u001b[K\rremote: Counting objects:  57% (48/84)\u001b[K\rremote: Counting objects:  58% (49/84)\u001b[K\rremote: Counting objects:  59% (50/84)\u001b[K\rremote: Counting objects:  60% (51/84)\u001b[K\rremote: Counting objects:  61% (52/84)\u001b[K\rremote: Counting objects:  63% (53/84)\u001b[K\rremote: Counting objects:  64% (54/84)\u001b[K\rremote: Counting objects:  65% (55/84)\u001b[K\rremote: Counting objects:  66% (56/84)\u001b[K\rremote: Counting objects:  67% (57/84)\u001b[K\rremote: Counting objects:  69% (58/84)\u001b[K\rremote: Counting objects:  70% (59/84)\u001b[K\rremote: Counting objects:  71% (60/84)\u001b[K\rremote: Counting objects:  72% (61/84)\u001b[K\rremote: Counting objects:  73% (62/84)\u001b[K\rremote: Counting objects:  75% (63/84)\u001b[K\rremote: Counting objects:  76% (64/84)\u001b[K\rremote: Counting objects:  77% (65/84)\u001b[K\rremote: Counting objects:  78% (66/84)\u001b[K\rremote: Counting objects:  79% (67/84)\u001b[K\rremote: Counting objects:  80% (68/84)\u001b[K\rremote: Counting objects:  82% (69/84)\u001b[K\rremote: Counting objects:  83% (70/84)\u001b[K\rremote: Counting objects:  84% (71/84)\u001b[K\rremote: Counting objects:  85% (72/84)\u001b[K\rremote: Counting objects:  86% (73/84)\u001b[K\rremote: Counting objects:  88% (74/84)\u001b[K\rremote: Counting objects:  89% (75/84)\u001b[K\rremote: Counting objects:  90% (76/84)\u001b[K\rremote: Counting objects:  91% (77/84)\u001b[K\rremote: Counting objects:  92% (78/84)\u001b[K\rremote: Counting objects:  94% (79/84)\u001b[K\rremote: Counting objects:  95% (80/84)\u001b[K\rremote: Counting objects:  96% (81/84)\u001b[K\rremote: Counting objects:  97% (82/84)\u001b[K\rremote: Counting objects:  98% (83/84)\u001b[K\rremote: Counting objects: 100% (84/84)\u001b[K\rremote: Counting objects: 100% (84/84), done.\u001b[K\n",
            "remote: Compressing objects: 100% (65/65), done.\u001b[K\n",
            "remote: Total 84 (delta 13), reused 75 (delta 6), pack-reused 0\u001b[K\n",
            "Unpacking objects: 100% (84/84), done.\n"
          ],
          "name": "stdout"
        }
      ]
    },
    {
      "cell_type": "code",
      "metadata": {
        "id": "4gWFtgshDVYS",
        "colab_type": "code",
        "colab": {
          "base_uri": "https://localhost:8080/",
          "height": 276
        },
        "outputId": "f96abf99-25b0-4b20-9d72-b676048c88cd"
      },
      "source": [
        "%cd /content/CPC_audio\n",
        "!python setup.py develop"
      ],
      "execution_count": 68,
      "outputs": [
        {
          "output_type": "stream",
          "text": [
            "/content/CPC_audio\n",
            "running develop\n",
            "running egg_info\n",
            "writing CPC_audio.egg-info/PKG-INFO\n",
            "writing dependency_links to CPC_audio.egg-info/dependency_links.txt\n",
            "writing top-level names to CPC_audio.egg-info/top_level.txt\n",
            "writing manifest file 'CPC_audio.egg-info/SOURCES.txt'\n",
            "running build_ext\n",
            "copying build/lib.linux-x86_64-3.6/cpc/eval/ABX/dtw.cpython-36m-x86_64-linux-gnu.so -> cpc/eval/ABX\n",
            "Creating /usr/local/lib/python3.6/dist-packages/CPC-audio.egg-link (link to .)\n",
            "CPC-audio 1.0 is already the active version in easy-install.pth\n",
            "\n",
            "Installed /content/CPC_audio\n",
            "Processing dependencies for CPC-audio==1.0\n",
            "Finished processing dependencies for CPC-audio==1.0\n"
          ],
          "name": "stdout"
        }
      ]
    },
    {
      "cell_type": "code",
      "metadata": {
        "id": "0lImFBRyHIMX",
        "colab_type": "code",
        "colab": {}
      },
      "source": [
        "import torch\n",
        "import torchaudio"
      ],
      "execution_count": 69,
      "outputs": []
    },
    {
      "cell_type": "markdown",
      "metadata": {
        "colab_type": "text",
        "id": "YZ1Wywx3BNGS"
      },
      "source": [
        "# Part 1 : contrastive predictive coding\n",
        "\n",
        "Contrastive Predictive Coding (CPC) is a method of unsupervised training for speech models. The idea behind it is pretty simple:\n",
        "\n",
        "\n",
        "1.   The raw audio wave is passed through a convolutional network: the ```encoder```\n",
        "2.   Then, the encoder's output is given to a recurrent network the ```context```\n",
        "3. A third party network, the ```prediction_network``` will try to predict the  future embeddings of the encoder using the output of the context network.\n",
        "\n",
        "In order to avoid a collapse to trivial solutions, the prediction_network doesn't try to reconstruct the future features. Instead, using the context output $c_t$ at time $t$ it is trained to discriminate the real  encoder representatioin $g_{t+k}$ at time $t+k$ from several other features $(g_n)_n$ taken elsewhere in the batch. Thus the loss becomes:\n",
        "\n",
        "\\\\[ \\mathcal{L}_c = - \\frac{1}{K} \\sum_{k=1}^K \\text{Cross_entropy}(\\phi_k(c_t), g_{t+k}) \\\\]\n",
        "\n",
        "Or:\n",
        "\n",
        "\\\\[ \\mathcal{L}_c = - \\frac{1}{K} \\sum_{k=1}^K \\log \\frac{ \\exp\\left(\\phi_k(c_t)^\\top g_{t+k}\\right) }{  \\sum_{\\mathbf{n}\\in\\mathcal{N}_t} \\exp\\left(\\phi_k(c_t)^\\top g_n\\right)} \\\\]\n",
        "\n",
        "Where:\n",
        "\n",
        "\n",
        "*   $\\phi_k$ is the prediction network for the kth timestep\n",
        "*   $\\mathcal{N}_t$ is the set of all negative examples sampled for timestep $t$\n",
        "\n",
        "\n"
      ]
    },
    {
      "cell_type": "markdown",
      "metadata": {
        "colab_type": "text",
        "id": "frPFYXuPfNPs"
      },
      "source": [
        "## Exercice 1 : Building the model\n",
        "\n",
        "In this exercise, we will build and train a small CPC model using the repository CPC_audio.\n",
        "\n",
        "The code below loads a context and an encoder newtorks."
      ]
    },
    {
      "cell_type": "code",
      "metadata": {
        "colab_type": "code",
        "id": "8g-xPSdLRdui",
        "colab": {
          "base_uri": "https://localhost:8080/",
          "height": 35
        },
        "outputId": "7c7aea41-cc31-4d82-aca9-0f57a543f0c8"
      },
      "source": [
        "%cd /content/CPC_audio\n",
        "from cpc.model import CPCEncoder, CPCAR\n",
        "device = torch.device(\"cuda:0\" if torch.cuda.is_available() else \"cpu\")\n",
        "\n",
        "DIM_ENCODER=256\n",
        "DIM_CONTEXT=256\n",
        "KEEP_HIDDEN_VECTOR=False\n",
        "N_LEVELS_CONTEXT=1\n",
        "CONTEXT_RNN=\"LSTM\"\n",
        "N_PREDICTIONS=12\n",
        "LEARNING_RATE=2e-2\n",
        "N_NEGATIVE_SAMPLE =128"
      ],
      "execution_count": 70,
      "outputs": [
        {
          "output_type": "stream",
          "text": [
            "/content/CPC_audio\n"
          ],
          "name": "stdout"
        }
      ]
    },
    {
      "cell_type": "code",
      "metadata": {
        "colab_type": "code",
        "id": "7Wx8WkrQk9bQ",
        "colab": {}
      },
      "source": [
        "encoder = CPCEncoder(DIM_ENCODER).to(device)\n",
        "context = CPCAR(DIM_ENCODER, DIM_CONTEXT, KEEP_HIDDEN_VECTOR, 1, mode=CONTEXT_RNN).to(device)"
      ],
      "execution_count": 71,
      "outputs": []
    },
    {
      "cell_type": "code",
      "metadata": {
        "colab_type": "code",
        "id": "f9BrweAIla4J",
        "colab": {}
      },
      "source": [
        "# Several functions that will be necessary to load the data later\n",
        "from cpc.dataset import findAllSeqs, AudioBatchData, parseSeqLabels\n",
        "SIZE_WINDOW = 20480\n",
        "BATCH_SIZE=8\n",
        "def load_dataset(path_dataset, file_extension='.wav', phone_label_dict=None):\n",
        "  data_list, speakers = findAllSeqs(path_dataset, extension=file_extension)\n",
        "  dataset = AudioBatchData(path_dataset, SIZE_WINDOW, data_list, phone_label_dict, len(speakers))\n",
        "  return dataset"
      ],
      "execution_count": 72,
      "outputs": []
    },
    {
      "cell_type": "code",
      "metadata": {
        "id": "DfYPgwIoKMYK",
        "colab_type": "code",
        "colab": {
          "base_uri": "https://localhost:8080/",
          "height": 328
        },
        "outputId": "edc505f2-87e6-4b37-f581-5f9dfa865dc9"
      },
      "source": [
        "dataset_train = load_dataset('/content/gdrive/My Drive/Datasets/data/records/train')\n",
        "dataset_val = load_dataset('/content/gdrive/My Drive/Datasets/data/records/val')\n",
        "data_loader_train = dataset_train.getDataLoader(BATCH_SIZE, \"speaker\", True)\n",
        "data_loader_val = dataset_val.getDataLoader(BATCH_SIZE, \"sequence\", False)"
      ],
      "execution_count": 73,
      "outputs": [
        {
          "output_type": "stream",
          "text": [
            "1it [00:00, 93.26it/s]"
          ],
          "name": "stderr"
        },
        {
          "output_type": "stream",
          "text": [
            "Saved cache file at /content/gdrive/My Drive/Datasets/data/records/train/_seqs_cache.txt\n"
          ],
          "name": "stdout"
        },
        {
          "output_type": "stream",
          "text": [
            "\n"
          ],
          "name": "stderr"
        },
        {
          "output_type": "stream",
          "text": [
            "Checking length...\n"
          ],
          "name": "stdout"
        },
        {
          "output_type": "stream",
          "text": [
            "332it [00:00, 248484.82it/s]\n"
          ],
          "name": "stderr"
        },
        {
          "output_type": "stream",
          "text": [
            "Done, elapsed: 0.372 seconds\n",
            "Scanned 332 sequences in 0.37 seconds\n",
            "1 chunks computed\n",
            "Joining pool\n"
          ],
          "name": "stdout"
        },
        {
          "output_type": "stream",
          "text": [
            "\r0it [00:00, ?it/s]"
          ],
          "name": "stderr"
        },
        {
          "output_type": "stream",
          "text": [
            "Joined process, elapsed=1.252 secs\n"
          ],
          "name": "stdout"
        },
        {
          "output_type": "stream",
          "text": [
            "\r1it [00:00, 35.49it/s]"
          ],
          "name": "stderr"
        },
        {
          "output_type": "stream",
          "text": [
            "Saved cache file at /content/gdrive/My Drive/Datasets/data/records/val/_seqs_cache.txt\n"
          ],
          "name": "stdout"
        },
        {
          "output_type": "stream",
          "text": [
            "\n",
            "82it [00:00, 229135.86it/s]"
          ],
          "name": "stderr"
        },
        {
          "output_type": "stream",
          "text": [
            "Checking length...\n",
            "Done, elapsed: 0.110 seconds\n",
            "Scanned 82 sequences in 0.11 seconds\n",
            "1 chunks computed\n",
            "Joining pool\n"
          ],
          "name": "stdout"
        },
        {
          "output_type": "stream",
          "text": [
            "\n"
          ],
          "name": "stderr"
        },
        {
          "output_type": "stream",
          "text": [
            "Joined process, elapsed=0.419 secs\n"
          ],
          "name": "stdout"
        }
      ]
    },
    {
      "cell_type": "markdown",
      "metadata": {
        "colab_type": "text",
        "id": "58pQ7ysXk9ZO"
      },
      "source": [
        "Now build a new class, ```CPCModel``` which will"
      ]
    },
    {
      "cell_type": "code",
      "metadata": {
        "colab_type": "code",
        "id": "rR5IYRTpRF8T",
        "colab": {}
      },
      "source": [
        "class CPCModel(torch.nn.Module):\n",
        "\n",
        "    def __init__(self,encoder,AR):\n",
        "\n",
        "        super(CPCModel, self).__init__()\n",
        "        self.gEncoder = encoder\n",
        "        self.gAR = AR\n",
        "\n",
        "    def forward(self, batch_data):        \n",
        "\n",
        "        encoder_output = self.gEncoder(batch_data)\n",
        "        #print(encoder_output.shape)\n",
        "        # The output of the encoder data does not have the good format \n",
        "        # indeed it is Batch_size x Hidden_size x temp size\n",
        "        # while the context requires Batch_size  x temp size x Hidden_size\n",
        "        # thus you need to permute\n",
        "        context_input = encoder_output.permute(0, 2, 1)\n",
        "\n",
        "        context_output = self.gAR(context_input)\n",
        "        #print(context_output.shape)\n",
        "        return context_output, encoder_output"
      ],
      "execution_count": 74,
      "outputs": []
    },
    {
      "cell_type": "markdown",
      "metadata": {
        "colab_type": "text",
        "id": "XUJgm6Rl4vS4"
      },
      "source": [
        "Let's test your code !\n"
      ]
    },
    {
      "cell_type": "code",
      "metadata": {
        "colab_type": "code",
        "id": "D1x1n4mv4y03",
        "colab": {}
      },
      "source": [
        "audio = torchaudio.load(\"/content/gdrive/My Drive/Datasets/data/records/train/200702-204305_pcm_65e_elicit_14.wav\")[0]\n",
        "audio = audio.view(1, 1, -1)\n",
        "cpc_model = CPCModel(encoder, context).to(device)\n",
        "context_output, encoder_output = cpc_model(audio.to(device))"
      ],
      "execution_count": 75,
      "outputs": []
    },
    {
      "cell_type": "markdown",
      "metadata": {
        "colab_type": "text",
        "id": "X27ce8Hy3C2p"
      },
      "source": [
        "## Exercise 2 : CPC loss\n",
        "\n",
        "We will define a class ```CPCCriterion``` which will hold the prediction networks $\\phi_k$ defined above and perform the classification loss $\\mathcal{L}_c$.\n",
        "\n",
        "a) In this exercise, the $\\phi_k$ will be a linear transform, ie:\n",
        "\n",
        "\\\\[ \\phi_k(c_t) = \\mathbf{A}_k c_t\\\\]\n",
        "\n",
        "Using the class [torch.nn.Linear](https://pytorch.org/docs/stable/nn.html#torch.nn.Linear), define the transformations $\\phi_k$ in the code below and complete the function ```get_prediction_k``` which computes $\\phi_k(c_t)$ for a given batch of vectors $c_t$.\n",
        "\n",
        "b) Using both ```get_prediction_k```  and ```sample_negatives``` defined below, write the forward function which will take as input two batches of features $c_t$ and $g_t$ and outputs the classification loss $\\mathcal{L}_c$ and the average acuracy for all predictions. "
      ]
    },
    {
      "cell_type": "code",
      "metadata": {
        "colab_type": "code",
        "id": "UlAs-z1fBc3W",
        "colab": {}
      },
      "source": [
        "# Exercice 2: write the CPC loss\n",
        "# a) Write the negative sampling (with some help)\n",
        "# ERRATUM: it's really hard, the sampling will be provided\n",
        "\n",
        "class CPCCriterion(torch.nn.Module):\n",
        "\n",
        "  def __init__(self,K,dim_context,dim_encoder,n_negative):\n",
        "    super(CPCCriterion, self).__init__()\n",
        "    self.K_ = K\n",
        "    self.dim_context = dim_context\n",
        "    self.dim_encoder = dim_encoder\n",
        "    self.n_negative = n_negative\n",
        "\n",
        "    self.predictors = torch.nn.ModuleList() \n",
        "    for k in range(self.K_):\n",
        "      # TO COMPLETE !\n",
        "      \n",
        "      # A affine transformation in pytorch is equivalent to a nn.Linear layer\n",
        "      # To get a linear transformation you must set bias=False\n",
        "      # input dimension of the layer = dimension of the encoder\n",
        "      # output dimension of the layer = dimension of the context\n",
        "      self.predictors.append(torch.nn.Linear(dim_context, dim_encoder, bias=False))\n",
        "\n",
        "  def get_prediction_k(self, context_data):\n",
        "\n",
        "    #TO COMPLETE !\n",
        "    output = [] \n",
        "    # For each time step k\n",
        "    for k in range(self.K_):\n",
        "\n",
        "      # We need to compute phi_k = A_k * c_t\n",
        "      phi_k = self.predictors[k](context_data)\n",
        "      output.append(phi_k)\n",
        "\n",
        "    return output\n",
        "\n",
        "\n",
        "  def sample_negatives(self, encoded_data):\n",
        "    r\"\"\"\n",
        "    Sample some negative examples in the given encoded data.\n",
        "    Input:\n",
        "    - encoded_data size: B x T x H\n",
        "    Returns\n",
        "    - outputs of size B x (n_negative + 1) x (T - K_) x H\n",
        "      outputs[:, 0, :, :] contains the positive example\n",
        "      outputs[:, 1:, :, :] contains negative example sampled in the batch\n",
        "    - labels, long tensor of size B x (T - K_)\n",
        "      Since the positive example is always at coordinates 0 for all sequences \n",
        "      in the batch and all timestep in the sequence, labels is just a tensor\n",
        "      full of zeros !\n",
        "    \"\"\"\n",
        "    batch_size, time_size, dim_encoded = encoded_data.size()\n",
        "    window_size = time_size - self.K_\n",
        "    outputs = []\n",
        "\n",
        "    neg_ext = encoded_data.contiguous().view(-1, dim_encoded)\n",
        "    n_elem_sampled = self.n_negative * window_size * batch_size\n",
        "    # Draw nNegativeExt * batchSize negative samples anywhere in the batch\n",
        "    batch_idx = torch.randint(low=0, high=batch_size,\n",
        "                              size=(n_elem_sampled, ),\n",
        "                              device=encoded_data.device)\n",
        "\n",
        "    seq_idx = torch.randint(low=1, high=time_size,\n",
        "                            size=(n_elem_sampled, ),\n",
        "                            device=encoded_data.device)\n",
        "\n",
        "    base_idx = torch.arange(0, window_size, device=encoded_data.device)\n",
        "    base_idx = base_idx.view(1, 1, window_size)\n",
        "    base_idx = base_idx.expand(1, self.n_negative, window_size)\n",
        "    base_idx = base_idx.expand(batch_size, self.n_negative, window_size)\n",
        "    seq_idx += base_idx.contiguous().view(-1)\n",
        "    seq_idx = torch.remainder(seq_idx, time_size)\n",
        "\n",
        "    ext_idx = seq_idx + batch_idx * time_size\n",
        "    neg_ext = neg_ext[ext_idx].view(batch_size, self.n_negative,\n",
        "                                    window_size, dim_encoded)\n",
        "    label_loss = torch.zeros((batch_size, window_size),\n",
        "                              dtype=torch.long,\n",
        "                              device=encoded_data.device)\n",
        "\n",
        "    for k in range(1, self.K_ + 1):\n",
        "\n",
        "      # Positive samples\n",
        "      if k < self.K_:\n",
        "          pos_seq = encoded_data[:, k:-(self.K_-k)]\n",
        "      else:\n",
        "          pos_seq = encoded_data[:, k:]\n",
        "\n",
        "      pos_seq = pos_seq.view(batch_size, 1, pos_seq.size(1), dim_encoded)\n",
        "      full_seq = torch.cat((pos_seq, neg_ext), dim=1)\n",
        "      outputs.append(full_seq)\n",
        "\n",
        "    return outputs, label_loss\n",
        "\n",
        "  def forward(self, encoded_data, context_data):\n",
        "\n",
        "    # TO COMPLETE:\n",
        "    # Perform the full cpc criterion\n",
        "    # Returns 2 values:\n",
        "    # - the average classification loss avg_loss\n",
        "    # - the average classification acuracy avg_acc\n",
        "\n",
        "    # Reminder : The permuation !\n",
        "    encoded_data = encoded_data.permute(0, 2, 1)\n",
        "\n",
        "    # First we need to sample the negative examples\n",
        "    negative_samples, labels = self.sample_negatives(encoded_data)\n",
        "\n",
        "    # Then we must compute phi_k\n",
        "    phi_k = self.get_prediction_k(context_data)\n",
        "\n",
        "    # Finally we must get the dot product between phi_k and negative_samples \n",
        "    # for each k\n",
        "\n",
        "    #The total loss is the average of all losses\n",
        "    avg_loss = 0\n",
        "\n",
        "    # Average acuracy\n",
        "    avg_acc = 0\n",
        "\n",
        "    for k in range(self.K_):\n",
        "      B, N_sampled, S_small, H = negative_samples[k].size() \n",
        "      B, S, H = phi_k[k].size()\n",
        "\n",
        "      # As told before S = S_small + K. For segments too far in the sequence\n",
        "      # there are no positive exmples anyway, so we must shorten phi_k\n",
        "      phi = phi_k[k][:, :S_small]\n",
        "\n",
        "      # Now the dot product\n",
        "      # You have several ways to do that, let's do the simple but non optimal \n",
        "      # one\n",
        "      # pytorch has a matrix product function https://pytorch.org/docs/stable/torch.html#torch.bmm\n",
        "      # But it takes only 3D tensors of the same batch size !\n",
        "      # To begin negative_samples is a 4D tensor ! \n",
        "      # We want to compute the dot product for each features, of each sequence\n",
        "      # of the batch. Thus we are trying to compute a dot product for all\n",
        "      # B* N_sampled * S_small 1D vector of negative_samples[k]\n",
        "      # Or, a 1D tensor of size H is also a matrix of size 1 x H\n",
        "      # Then, we must view it as a 3D tensor of size (B* N_sampled * S_small, 1, H)\n",
        "      negative_sample_k  =  negative_samples[k].view(B* N_sampled* S_small, 1, H)\n",
        "\n",
        "      # But now phi and negative_sample_k no longer have the same batch size !\n",
        "      # No worries, we can expand phi so that each sequence of the batch\n",
        "      # is repeated N_sampled times\n",
        "      phi = phi.view(B, 1,S_small, H).expand(B, N_sampled, S_small, H)\n",
        "\n",
        "      # And now we can view it as a 3D tensor \n",
        "      phi  = phi.contiguous().view(B * N_sampled * S_small, H, 1)\n",
        "\n",
        "      # We can finally get the dot product !\n",
        "      scores = torch.bmm(negative_sample_k, phi)\n",
        "\n",
        "      # Dot_product has a size (B * N_sampled * S_small , 1, 1)\n",
        "      # Let's reorder it a bit\n",
        "      scores = scores.reshape(B, N_sampled, S_small)\n",
        "\n",
        "      # For each elements of the sequence, and each elements sampled, it gives \n",
        "      # a floating score stating the likelihood of this element being the \n",
        "      # true one.\n",
        "      # Now the classification loss, we need to use the Cross Entropy loss\n",
        "      # https://pytorch.org/docs/master/generated/torch.nn.CrossEntropyLoss.html\n",
        "\n",
        "      # For each time-step of each sequence of the batch \n",
        "      # we have N_sampled possible predictions. \n",
        "      # Looking at the documentation of torch.nn.CrossEntropyLoss\n",
        "      # we can see that this loss expect a tensor of size M x C where \n",
        "      # - M is the number of elements with a classification score\n",
        "      # - C is the number of possible classes\n",
        "      # There are N_sampled candidates for each predictions so\n",
        "      # C = N_sampled \n",
        "      # Each timestep of each sequence of the batch has a prediction so\n",
        "      # M = B * S_small\n",
        "      # Thus we need an input vector of size B * S_small, N_sampled\n",
        "      # To begin, we need to permute the axis\n",
        "      scores = scores.permute(0, 2, 1) # Now it has size B , S_small, N_sampled\n",
        "\n",
        "      # Then we can cast it into a 2D tensor\n",
        "      scores = scores.reshape(B * S_small, N_sampled)\n",
        "\n",
        "      # Same thing for the labels \n",
        "      labels = labels.reshape(B * S_small)\n",
        "\n",
        "      # Finally we can get the classification loss\n",
        "      loss_criterion = torch.nn.CrossEntropyLoss()\n",
        "      loss_k = loss_criterion(scores, labels)\n",
        "      avg_loss+= loss_k\n",
        "\n",
        "      # And for the acuracy\n",
        "      # The prediction for each elements is the sample with the highest score\n",
        "      # Thus the tensors of all predictions is the tensors of the index of the \n",
        "      # maximal score for each time-step of each sequence of the batch\n",
        "      predictions = torch.argmax(scores, 1)\n",
        "      acc_k  = (labels == predictions).sum() / (B * S_small)\n",
        "      avg_acc += acc_k\n",
        "\n",
        "    # Normalization\n",
        "    avg_loss = avg_loss / self.K_\n",
        "    avg_acc = avg_acc / self.K_\n",
        "      \n",
        "    return avg_loss , avg_acc"
      ],
      "execution_count": 76,
      "outputs": []
    },
    {
      "cell_type": "markdown",
      "metadata": {
        "colab_type": "text",
        "id": "0cqGXhLf-_O1"
      },
      "source": [
        "Don't forget to test !"
      ]
    },
    {
      "cell_type": "code",
      "metadata": {
        "colab_type": "code",
        "id": "sYJSMh5I_QCf",
        "colab": {}
      },
      "source": [
        "audio = torchaudio.load(\"/content/gdrive/My Drive/Datasets/data/records/train/200702-204305_pcm_65e_elicit_14.wav\")[0]\n",
        "audio = audio.view(1, 1, -1)\n",
        "cpc_criterion = CPCCriterion(N_PREDICTIONS, DIM_CONTEXT,DIM_ENCODER, N_NEGATIVE_SAMPLE).to(device)\n",
        "context_output, encoder_output = cpc_model(audio.to(device))\n",
        "loss, avg = cpc_criterion(encoder_output,context_output)"
      ],
      "execution_count": 77,
      "outputs": []
    },
    {
      "cell_type": "markdown",
      "metadata": {
        "colab_type": "text",
        "id": "zLv7GoE0_4C3"
      },
      "source": [
        "## Exercise 3: Full training loop !\n",
        "\n",
        "You have the model, you have the criterion. All you need now are a data loader and an optimizer to run your training loop.\n",
        "\n",
        "We will use an Adam optimizer:"
      ]
    },
    {
      "cell_type": "code",
      "metadata": {
        "colab_type": "code",
        "id": "zcg29tqPAIR1",
        "colab": {}
      },
      "source": [
        "parameters = list(cpc_criterion.parameters()) + list(cpc_model.parameters())\n",
        "optimizer = torch.optim.Adam(parameters, lr=LEARNING_RATE)"
      ],
      "execution_count": 78,
      "outputs": []
    },
    {
      "cell_type": "markdown",
      "metadata": {
        "colab_type": "text",
        "id": "hETDwSfTAuF4"
      },
      "source": [
        "And as far as the data loader is concerned, we will rely on the data loader provided by the CPC_audio library."
      ]
    },
    {
      "cell_type": "markdown",
      "metadata": {
        "colab_type": "text",
        "id": "uCoMCPL0A8VI"
      },
      "source": [
        "Now that everything is ready, complete and test the ```train_step``` function below which trains the model for one epoch."
      ]
    },
    {
      "cell_type": "code",
      "metadata": {
        "colab_type": "code",
        "id": "U-hIH3p8BsZr",
        "colab": {}
      },
      "source": [
        "def train_step(data_loader,cpc_model,cpc_criterion,optimizer):\n",
        "  \n",
        "  avg_loss = 0\n",
        "  avg_acc = 0\n",
        "  n_items = 0\n",
        "\n",
        "  for step, data in enumerate(data_loader):\n",
        "    x,y = data\n",
        "    bs = len(x)\n",
        "    optimizer.zero_grad()\n",
        "    context_output, encoder_output = cpc_model(x.to(device))\n",
        "    loss , acc = cpc_criterion(encoder_output, context_output)\n",
        "    loss.backward()\n",
        "    n_items+=bs\n",
        "    avg_loss+=loss.item()*bs\n",
        "    avg_acc +=acc.item()*bs\n",
        "  \n",
        "  avg_loss/=n_items\n",
        "  avg_acc/=n_items\n",
        "  return avg_loss, avg_acc"
      ],
      "execution_count": 79,
      "outputs": []
    },
    {
      "cell_type": "markdown",
      "metadata": {
        "colab_type": "text",
        "id": "rIj06giJE_bZ"
      },
      "source": [
        "## Exercise 4 : Validation loop\n",
        "\n",
        "Now complete the validation loop."
      ]
    },
    {
      "cell_type": "code",
      "metadata": {
        "colab_type": "code",
        "id": "Q7Qwi6jDByyt",
        "colab": {}
      },
      "source": [
        "def validation_step(data_loader,cpc_model,cpc_criterion):\n",
        "  \n",
        "  avg_loss = 0\n",
        "  avg_acc = 0\n",
        "  n_items = 0\n",
        "\n",
        "  for step, data in enumerate(data_loader):\n",
        "    x,y = data\n",
        "    bs = len(x)\n",
        "    context_output, encoder_output = cpc_model(x.to(device))\n",
        "    loss , acc = cpc_criterion(encoder_output, context_output)\n",
        "    n_items+=bs\n",
        "    avg_loss+=loss.item()*bs\n",
        "    avg_acc+=acc.item()*bs\n",
        "  \n",
        "  avg_loss/=n_items\n",
        "  avg_acc/=n_items\n",
        "  return avg_loss, avg_acc"
      ],
      "execution_count": 80,
      "outputs": []
    },
    {
      "cell_type": "markdown",
      "metadata": {
        "colab_type": "text",
        "id": "OBVUPKKs2_0U"
      },
      "source": [
        "## Exercise 5: Run everything"
      ]
    },
    {
      "cell_type": "code",
      "metadata": {
        "colab_type": "code",
        "id": "ZbXsZIRiB1tm",
        "colab": {}
      },
      "source": [
        "def run(train_loader,val_loader,cpc_model,cpc_criterion,optimizer,n_epochs):\n",
        "  \n",
        "  for epoch in range(n_epochs):\n",
        "\n",
        "    \n",
        "    print(f\"Running epoch {epoch+1} / {n_epochs}\")\n",
        "    avg_loss_train, avg_acc_train = train_step(train_loader, cpc_model, cpc_criterion, optimizer)\n",
        "    print(\"----------------------\")\n",
        "    print(f\"Training dataset\")\n",
        "    print(f\"- average loss : {avg_loss_train}\")\n",
        "    print(f\"- average acuracy : {avg_acc_train}\")\n",
        "    print(\"----------------------\")\n",
        "    with torch.no_grad():\n",
        "      cpc_model.eval()\n",
        "      cpc_criterion.eval()\n",
        "      avg_loss_val, avg_acc_val = validation_step(val_loader, cpc_model, cpc_criterion)\n",
        "      print(f\"Validation dataset\")\n",
        "      print(f\"- average loss : {avg_loss_val}\")\n",
        "      print(f\"- average acuracy : {avg_acc_val}\")\n",
        "      print(\"----------------------\")\n",
        "      print()\n",
        "      cpc_model.train()\n",
        "      cpc_criterion.train()"
      ],
      "execution_count": 81,
      "outputs": []
    },
    {
      "cell_type": "code",
      "metadata": {
        "colab_type": "code",
        "id": "5xx8vN2wpECC",
        "colab": {
          "base_uri": "https://localhost:8080/",
          "height": 1000
        },
        "outputId": "0e8901b1-9dda-4121-d369-83bcd3c7357b"
      },
      "source": [
        "run(data_loader_train, data_loader_val, cpc_model,cpc_criterion,optimizer,10)"
      ],
      "execution_count": 82,
      "outputs": [
        {
          "output_type": "stream",
          "text": [
            "Running epoch 1 / 10\n",
            "----------------------\n",
            "Training dataset\n",
            "- average loss : 4.8780260999152\n",
            "- average acuracy : 0.0\n",
            "----------------------\n",
            "Validation dataset\n",
            "- average loss : 4.879211990921585\n",
            "- average acuracy : 0.0\n",
            "----------------------\n",
            "\n",
            "Running epoch 2 / 10\n",
            "----------------------\n",
            "Training dataset\n",
            "- average loss : 4.877927333750623\n",
            "- average acuracy : 0.0\n",
            "----------------------\n",
            "Validation dataset\n",
            "- average loss : 4.879226764043172\n",
            "- average acuracy : 0.0\n",
            "----------------------\n",
            "\n",
            "Running epoch 3 / 10\n",
            "----------------------\n",
            "Training dataset\n",
            "- average loss : 4.8780050034218645\n",
            "- average acuracy : 0.0\n",
            "----------------------\n",
            "Validation dataset\n",
            "- average loss : 4.879341823083383\n",
            "- average acuracy : 0.0\n",
            "----------------------\n",
            "\n",
            "Running epoch 4 / 10\n",
            "----------------------\n",
            "Training dataset\n",
            "- average loss : 4.8779198768291065\n",
            "- average acuracy : 0.0\n",
            "----------------------\n",
            "Validation dataset\n",
            "- average loss : 4.8791269019798\n",
            "- average acuracy : 0.0\n",
            "----------------------\n",
            "\n",
            "Running epoch 5 / 10\n",
            "----------------------\n",
            "Training dataset\n",
            "- average loss : 4.878031304542055\n",
            "- average acuracy : 0.0\n",
            "----------------------\n",
            "Validation dataset\n",
            "- average loss : 4.879271392469053\n",
            "- average acuracy : 0.0\n",
            "----------------------\n",
            "\n",
            "Running epoch 6 / 10\n",
            "----------------------\n",
            "Training dataset\n",
            "- average loss : 4.877985860946331\n",
            "- average acuracy : 0.0\n",
            "----------------------\n",
            "Validation dataset\n",
            "- average loss : 4.8791690049348055\n",
            "- average acuracy : 0.0\n",
            "----------------------\n",
            "\n",
            "Running epoch 7 / 10\n",
            "----------------------\n",
            "Training dataset\n",
            "- average loss : 4.877979684383311\n",
            "- average acuracy : 0.0\n",
            "----------------------\n",
            "Validation dataset\n",
            "- average loss : 4.879150434776589\n",
            "- average acuracy : 0.0\n",
            "----------------------\n",
            "\n",
            "Running epoch 8 / 10\n",
            "----------------------\n",
            "Training dataset\n",
            "- average loss : 4.878047947173423\n",
            "- average acuracy : 0.0\n",
            "----------------------\n",
            "Validation dataset\n",
            "- average loss : 4.879322087323224\n",
            "- average acuracy : 0.0\n",
            "----------------------\n",
            "\n",
            "Running epoch 9 / 10\n",
            "----------------------\n",
            "Training dataset\n",
            "- average loss : 4.87796063321702\n",
            "- average acuracy : 0.0\n",
            "----------------------\n",
            "Validation dataset\n",
            "- average loss : 4.879220777087742\n",
            "- average acuracy : 0.0\n",
            "----------------------\n",
            "\n",
            "Running epoch 10 / 10\n",
            "----------------------\n",
            "Training dataset\n",
            "- average loss : 4.878029565608248\n",
            "- average acuracy : 0.0\n",
            "----------------------\n",
            "Validation dataset\n",
            "- average loss : 4.879101037979126\n",
            "- average acuracy : 0.0\n",
            "----------------------\n",
            "\n"
          ],
          "name": "stdout"
        }
      ]
    },
    {
      "cell_type": "markdown",
      "metadata": {
        "colab_type": "text",
        "id": "5hoT3_3W6HYY"
      },
      "source": [
        "Once everything is down, clear the memory."
      ]
    },
    {
      "cell_type": "code",
      "metadata": {
        "colab_type": "code",
        "id": "fU5mDOY46KSG",
        "colab": {}
      },
      "source": [
        "del dataset_train\n",
        "del dataset_val\n",
        "del cpc_model\n",
        "del context\n",
        "del encoder"
      ],
      "execution_count": 83,
      "outputs": []
    },
    {
      "cell_type": "markdown",
      "metadata": {
        "colab_type": "text",
        "id": "srPM5r_LB9v-"
      },
      "source": [
        "# Part 2 : Fine tuning"
      ]
    },
    {
      "cell_type": "markdown",
      "metadata": {
        "colab_type": "text",
        "id": "0Nb_-0IQiJk9"
      },
      "source": [
        "## Exercice 1 : Phone separability with aligned phonemes.\n",
        "\n",
        "One option to evaluate the quality of the features trained with CPC can be to check if they can be used to recognize phonemes. \n",
        "To do so, we can fine-tune a pre-trained model using a limited amount of labelled speech data.\n",
        "We are going to start with a simple evaluation setting where we have the phone labels for each timestep corresponding to a CPC feature.\n",
        "\n",
        "We will work with a model already pre-trained on English data. As far as the fine-tuning dataset is concerned, we will use a 1h subset of [librispeech-100](http://www.openslr.org/12/). "
      ]
    },
    {
      "cell_type": "code",
      "metadata": {
        "colab_type": "code",
        "id": "N-scDMAasXxc",
        "colab": {
          "base_uri": "https://localhost:8080/",
          "height": 639
        },
        "outputId": "312ddf5c-1326-4697-847c-76f5c0e0c0df"
      },
      "source": [
        "!mkdir checkpoint_data\n",
        "!wget https://dl.fbaipublicfiles.com/librilight/CPC_checkpoints/not_hub/2levels_6k_top_ctc/checkpoint_30.pt -P checkpoint_data\n",
        "!wget https://dl.fbaipublicfiles.com/librilight/CPC_checkpoints/not_hub/2levels_6k_top_ctc/checkpoint_logs.json -P checkpoint_data\n",
        "!wget https://dl.fbaipublicfiles.com/librilight/CPC_checkpoints/not_hub/2levels_6k_top_ctc/checkpoint_args.json -P checkpoint_data\n",
        "!ls checkpoint_data"
      ],
      "execution_count": 84,
      "outputs": [
        {
          "output_type": "stream",
          "text": [
            "mkdir: cannot create directory ‘checkpoint_data’: File exists\n",
            "--2020-07-06 21:51:58--  https://dl.fbaipublicfiles.com/librilight/CPC_checkpoints/not_hub/2levels_6k_top_ctc/checkpoint_30.pt\n",
            "Resolving dl.fbaipublicfiles.com (dl.fbaipublicfiles.com)... 104.22.74.142, 172.67.9.4, 104.22.75.142, ...\n",
            "Connecting to dl.fbaipublicfiles.com (dl.fbaipublicfiles.com)|104.22.74.142|:443... connected.\n",
            "HTTP request sent, awaiting response... 200 OK\n",
            "Length: 113599715 (108M) [application/octet-stream]\n",
            "Saving to: ‘checkpoint_data/checkpoint_30.pt.1’\n",
            "\n",
            "checkpoint_30.pt.1  100%[===================>] 108.34M  11.4MB/s    in 11s     \n",
            "\n",
            "2020-07-06 21:52:09 (10.2 MB/s) - ‘checkpoint_data/checkpoint_30.pt.1’ saved [113599715/113599715]\n",
            "\n",
            "--2020-07-06 21:52:11--  https://dl.fbaipublicfiles.com/librilight/CPC_checkpoints/not_hub/2levels_6k_top_ctc/checkpoint_logs.json\n",
            "Resolving dl.fbaipublicfiles.com (dl.fbaipublicfiles.com)... 104.22.74.142, 172.67.9.4, 104.22.75.142, ...\n",
            "Connecting to dl.fbaipublicfiles.com (dl.fbaipublicfiles.com)|104.22.74.142|:443... connected.\n",
            "HTTP request sent, awaiting response... 200 OK\n",
            "Length: 20786 (20K) [text/plain]\n",
            "Saving to: ‘checkpoint_data/checkpoint_logs.json.1’\n",
            "\n",
            "checkpoint_logs.jso 100%[===================>]  20.30K   118KB/s    in 0.2s    \n",
            "\n",
            "2020-07-06 21:52:12 (118 KB/s) - ‘checkpoint_data/checkpoint_logs.json.1’ saved [20786/20786]\n",
            "\n",
            "--2020-07-06 21:52:14--  https://dl.fbaipublicfiles.com/librilight/CPC_checkpoints/not_hub/2levels_6k_top_ctc/checkpoint_args.json\n",
            "Resolving dl.fbaipublicfiles.com (dl.fbaipublicfiles.com)... 104.22.74.142, 104.22.75.142, 172.67.9.4, ...\n",
            "Connecting to dl.fbaipublicfiles.com (dl.fbaipublicfiles.com)|104.22.74.142|:443... connected.\n",
            "HTTP request sent, awaiting response... 200 OK\n",
            "Length: 2063 (2.0K) [text/plain]\n",
            "Saving to: ‘checkpoint_data/checkpoint_args.json.1’\n",
            "\n",
            "checkpoint_args.jso 100%[===================>]   2.01K  --.-KB/s    in 0s      \n",
            "\n",
            "2020-07-06 21:52:15 (16.7 MB/s) - ‘checkpoint_data/checkpoint_args.json.1’ saved [2063/2063]\n",
            "\n",
            "checkpoint_30.pt    checkpoint_args.json    checkpoint_logs.json\n",
            "checkpoint_30.pt.1  checkpoint_args.json.1  checkpoint_logs.json.1\n"
          ],
          "name": "stdout"
        }
      ]
    },
    {
      "cell_type": "code",
      "metadata": {
        "colab_type": "code",
        "id": "SSSaiYo82_oY",
        "colab": {
          "base_uri": "https://localhost:8080/",
          "height": 380
        },
        "outputId": "4521e704-b334-41a1-84ad-fb29374c7a92"
      },
      "source": [
        "%cd /content/CPC_audio\n",
        "from cpc.dataset import parseSeqLabels\n",
        "from cpc.feature_loader import loadModel\n",
        "\n",
        "checkpoint_path = 'checkpoint_data/checkpoint_30.pt'\n",
        "cpc_model, HIDDEN_CONTEXT_MODEL, HIDDEN_ENCODER_MODEL = loadModel([checkpoint_path])\n",
        "cpc_model = cpc_model.cuda()\n",
        "label_dict, N_PHONES = parseSeqLabels('/content/gdrive/My Drive/Datasets/data/chars.txt')\n",
        "dataset_train = load_dataset('/content/gdrive/My Drive/Datasets/data/records/train', file_extension='.wav', phone_label_dict=label_dict)\n",
        "dataset_val = load_dataset('/content/gdrive/My Drive/Datasets/data/records/val', file_extension='.wav', phone_label_dict=label_dict)\n",
        "data_loader_train = dataset_train.getDataLoader(BATCH_SIZE, \"speaker\", True)\n",
        "data_loader_val = dataset_val.getDataLoader(BATCH_SIZE, \"sequence\", False)"
      ],
      "execution_count": 85,
      "outputs": [
        {
          "output_type": "stream",
          "text": [
            "/content/CPC_audio\n",
            "Loading checkpoint checkpoint_data/checkpoint_30.pt\n",
            "Loading the state dict at checkpoint_data/checkpoint_30.pt\n"
          ],
          "name": "stdout"
        },
        {
          "output_type": "stream",
          "text": [
            "1it [00:00, 96.10it/s]"
          ],
          "name": "stderr"
        },
        {
          "output_type": "stream",
          "text": [
            "Saved cache file at /content/gdrive/My Drive/Datasets/data/records/train/_seqs_cache.txt\n"
          ],
          "name": "stdout"
        },
        {
          "output_type": "stream",
          "text": [
            "\n"
          ],
          "name": "stderr"
        },
        {
          "output_type": "stream",
          "text": [
            "Checking length...\n"
          ],
          "name": "stdout"
        },
        {
          "output_type": "stream",
          "text": [
            "332it [00:00, 186788.59it/s]\n"
          ],
          "name": "stderr"
        },
        {
          "output_type": "stream",
          "text": [
            "Done, elapsed: 0.690 seconds\n",
            "Scanned 332 sequences in 0.69 seconds\n",
            "1 chunks computed\n",
            "Joining pool\n"
          ],
          "name": "stdout"
        },
        {
          "output_type": "stream",
          "text": [
            "1it [00:00, 30.99it/s]"
          ],
          "name": "stderr"
        },
        {
          "output_type": "stream",
          "text": [
            "Joined process, elapsed=1.261 secs\n",
            "Saved cache file at /content/gdrive/My Drive/Datasets/data/records/val/_seqs_cache.txt\n"
          ],
          "name": "stdout"
        },
        {
          "output_type": "stream",
          "text": [
            "\n",
            "82it [00:00, 197776.27it/s]"
          ],
          "name": "stderr"
        },
        {
          "output_type": "stream",
          "text": [
            "Checking length...\n",
            "Done, elapsed: 0.127 seconds\n",
            "Scanned 82 sequences in 0.13 seconds\n",
            "1 chunks computed\n",
            "Joining pool\n"
          ],
          "name": "stdout"
        },
        {
          "output_type": "stream",
          "text": [
            "\n"
          ],
          "name": "stderr"
        },
        {
          "output_type": "stream",
          "text": [
            "Joined process, elapsed=0.438 secs\n"
          ],
          "name": "stdout"
        }
      ]
    },
    {
      "cell_type": "code",
      "metadata": {
        "colab_type": "code",
        "id": "3ulgYV3nHcoa",
        "colab": {
          "base_uri": "https://localhost:8080/",
          "height": 52
        },
        "outputId": "a6e97009-fff9-4892-c1d2-6633985a3200"
      },
      "source": [
        "cpc_model, HIDDEN_CONTEXT_MODEL, HIDDEN_ENCODER_MODEL = loadModel([checkpoint_path])\n",
        "cpc_model = cpc_model.cuda()\n",
        "label_dict, N_PHONES = parseSeqLabels('/content/gdrive/My Drive/Datasets/data/chars.txt')"
      ],
      "execution_count": 86,
      "outputs": [
        {
          "output_type": "stream",
          "text": [
            "Loading checkpoint checkpoint_data/checkpoint_30.pt\n",
            "Loading the state dict at checkpoint_data/checkpoint_30.pt\n"
          ],
          "name": "stdout"
        }
      ]
    },
    {
      "cell_type": "markdown",
      "metadata": {
        "colab_type": "text",
        "id": "xkKi-qfosng2"
      },
      "source": [
        "Then we will use a simple linear classifier to recognize the phonemes from the features produced by ```cpc_model```. \n",
        "\n",
        "### a) Build the phone classifier \n",
        "\n",
        "Design a class of linear classifiers, ```PhoneClassifier``` that will take as input a batch of sequences of CPC features and output a score vector for each phoneme"
      ]
    },
    {
      "cell_type": "code",
      "metadata": {
        "colab_type": "code",
        "id": "4RpAbz-0CXJJ",
        "colab": {}
      },
      "source": [
        "class PhoneClassifier(torch.nn.Module):\n",
        "\n",
        "  def __init__(self,input_dim : int,n_phones : int):\n",
        "    super(PhoneClassifier, self).__init__()\n",
        "    self.linear = torch.nn.Linear(input_dim, n_phones)\n",
        "    \n",
        "  def forward(self, x):\n",
        "    return self.linear(x)"
      ],
      "execution_count": 87,
      "outputs": []
    },
    {
      "cell_type": "markdown",
      "metadata": {
        "colab_type": "text",
        "id": "Zt5oa_nqtH-d"
      },
      "source": [
        "Our phone classifier will then be:"
      ]
    },
    {
      "cell_type": "code",
      "metadata": {
        "colab_type": "code",
        "id": "NRBf_83IuLv5",
        "colab": {}
      },
      "source": [
        "phone_classifier = PhoneClassifier(HIDDEN_CONTEXT_MODEL, N_PHONES).to(device)"
      ],
      "execution_count": 88,
      "outputs": []
    },
    {
      "cell_type": "markdown",
      "metadata": {
        "colab_type": "text",
        "id": "z_Vf5AbUhqm4"
      },
      "source": [
        "### b - What would be the correct loss criterion for this task ?\n",
        "\n"
      ]
    },
    {
      "cell_type": "code",
      "metadata": {
        "colab_type": "code",
        "id": "uhyPM-cgjrtw",
        "colab": {}
      },
      "source": [
        "loss_criterion = torch.nn.CrossEntropyLoss()"
      ],
      "execution_count": 89,
      "outputs": []
    },
    {
      "cell_type": "markdown",
      "metadata": {
        "colab_type": "text",
        "id": "Nv4cSxbaplrz"
      },
      "source": [
        "To perform the fine-tuning, we will also need an optimization function.\n",
        "\n",
        "We will use an [Adam optimizer ](https://pytorch.org/docs/stable/optim.html#torch.optim.Adam)."
      ]
    },
    {
      "cell_type": "code",
      "metadata": {
        "colab_type": "code",
        "id": "W5CgYyAlqKxu",
        "colab": {}
      },
      "source": [
        "parameters = list(phone_classifier.parameters()) + list(cpc_model.parameters())\n",
        "LEARNING_RATE = 2e-4\n",
        "optimizer = torch.optim.Adam(parameters, lr=LEARNING_RATE)"
      ],
      "execution_count": 90,
      "outputs": []
    },
    {
      "cell_type": "markdown",
      "metadata": {
        "colab_type": "text",
        "id": "qQB9HS9PvAXc"
      },
      "source": [
        "You might also want to perform this training while freezing the weights of the ```cpc_model```. Indeed, if the pre-training was good enough, then ```cpc_model``` phonemes representation should be linearly separable. In this case the optimizer should be defined like this:"
      ]
    },
    {
      "cell_type": "code",
      "metadata": {
        "colab_type": "code",
        "id": "nRy0gn6awGUQ",
        "colab": {}
      },
      "source": [
        "optimizer_frozen = torch.optim.Adam(list(phone_classifier.parameters()), lr=LEARNING_RATE)"
      ],
      "execution_count": 91,
      "outputs": []
    },
    {
      "cell_type": "markdown",
      "metadata": {
        "colab_type": "text",
        "id": "cO93ngIfj4JW"
      },
      "source": [
        "### c- Now let's build a training loop. \n",
        "Complete the function ```train_one_epoch``` below.\n",
        "\n"
      ]
    },
    {
      "cell_type": "code",
      "metadata": {
        "colab_type": "code",
        "id": "fabqj3wvLwgU",
        "colab": {}
      },
      "source": [
        "def train_one_epoch(cpc_model,phone_classifier,loss_criterion,data_loader,optimizer):\n",
        "\n",
        "  cpc_model.train()\n",
        "  loss_criterion.train()\n",
        "\n",
        "  avg_loss = 0\n",
        "  avg_accuracy = 0\n",
        "  n_items = 0\n",
        "  for step, full_data in enumerate(data_loader):\n",
        "    # Each batch is represented by a Tuple of vectors:\n",
        "    # sequence of size : N x 1 x T\n",
        "    # label of size : N x T\n",
        "    # \n",
        "    # With :\n",
        "    # - N number of sequence in the batch\n",
        "    # - T size of each sequence\n",
        "    sequence, label = full_data\n",
        "    \n",
        "    \n",
        "\n",
        "    bs = len(sequence)\n",
        "    seq_len = label.size(1)\n",
        "    optimizer.zero_grad()\n",
        "    context_out, enc_out, _ = cpc_model(sequence.to(device),label.to(device))\n",
        "\n",
        "    scores = phone_classifier(context_out)\n",
        "\n",
        "    scores = scores.permute(0,2,1)\n",
        "    loss = loss_criterion(scores,label.to(device))\n",
        "    loss.backward()\n",
        "    optimizer.step()\n",
        "    avg_loss+=loss.item()*bs\n",
        "    n_items+=bs\n",
        "    correct_labels = scores.argmax(1)\n",
        "    avg_accuracy += ((label==correct_labels.cpu()).float()).mean(1).sum().item()\n",
        "  avg_loss/=n_items\n",
        "  avg_accuracy/=n_items\n",
        "  return avg_loss, avg_accuracy"
      ],
      "execution_count": 92,
      "outputs": []
    },
    {
      "cell_type": "markdown",
      "metadata": {
        "colab_type": "text",
        "id": "quYtjx_TxIPK"
      },
      "source": [
        "Don't forget to test it !"
      ]
    },
    {
      "cell_type": "code",
      "metadata": {
        "colab_type": "code",
        "id": "50MwxbKhxMKp",
        "colab": {}
      },
      "source": [
        "avg_loss, avg_accuracy = train_one_epoch(cpc_model, phone_classifier, loss_criterion, data_loader_train, optimizer_frozen)"
      ],
      "execution_count": 93,
      "outputs": []
    },
    {
      "cell_type": "code",
      "metadata": {
        "colab_type": "code",
        "id": "_o6yk8XKWnYe",
        "colab": {
          "base_uri": "https://localhost:8080/",
          "height": 35
        },
        "outputId": "9fda775f-d63e-4aab-8707-101e1742988e"
      },
      "source": [
        "avg_loss, avg_accuracy"
      ],
      "execution_count": 94,
      "outputs": [
        {
          "output_type": "execute_result",
          "data": {
            "text/plain": [
              "(4.0721463876612045, 0.028952205882352942)"
            ]
          },
          "metadata": {
            "tags": []
          },
          "execution_count": 94
        }
      ]
    },
    {
      "cell_type": "markdown",
      "metadata": {
        "colab_type": "text",
        "id": "EmUkuJ2bwu4Z"
      },
      "source": [
        "### d- Build the validation loop"
      ]
    },
    {
      "cell_type": "code",
      "metadata": {
        "colab_type": "code",
        "id": "kZJMxj6cwzd3",
        "colab": {}
      },
      "source": [
        "def validation_step(cpc_model,phone_classifier,loss_criterion,data_loader):\n",
        "  \n",
        "  cpc_model.eval()\n",
        "  phone_classifier.eval()\n",
        "\n",
        "  avg_loss = 0\n",
        "  avg_accuracy = 0\n",
        "  n_items = 0\n",
        "  with torch.no_grad():\n",
        "    for step, full_data in enumerate(data_loader):\n",
        "      # Each batch is represented by a Tuple of vectors:\n",
        "      # sequence of size : N x 1 x T\n",
        "      # label of size : N x T\n",
        "      # \n",
        "      # With :\n",
        "      # - N number of sequence in the batch\n",
        "      # - T size of each sequence\n",
        "      sequence, label = full_data\n",
        "      bs = len(sequence)\n",
        "      seq_len = label.size(1)\n",
        "      context_out, enc_out, _ = cpc_model(sequence.to(device),label.to(device))\n",
        "      scores = phone_classifier(context_out)\n",
        "      scores = scores.permute(0,2,1)\n",
        "      loss = loss_criterion(scores,label.to(device))\n",
        "      avg_loss+=loss.item()*bs\n",
        "      n_items+=bs\n",
        "      correct_labels = scores.argmax(1)\n",
        "      avg_accuracy += ((label==correct_labels.cpu()).float()).mean(1).sum().item()\n",
        "  avg_loss/=n_items\n",
        "  avg_accuracy/=n_items\n",
        "  return avg_loss, avg_accuracy"
      ],
      "execution_count": 95,
      "outputs": []
    },
    {
      "cell_type": "markdown",
      "metadata": {
        "colab_type": "text",
        "id": "vownVCt7xbVh"
      },
      "source": [
        "### e- Run everything\n",
        "\n",
        "Test this functiion with both ```optimizer``` and ```optimizer_frozen```."
      ]
    },
    {
      "cell_type": "code",
      "metadata": {
        "colab_type": "code",
        "id": "xvO_4nKUxfQx",
        "colab": {}
      },
      "source": [
        "def run(cpc_model,phone_classifier,loss_criterion,data_loader_train,data_loader_val,optimizer,n_epoch):\n",
        "\n",
        "  for epoch in range(n_epoch):\n",
        "\n",
        "    print(f\"Running epoch {epoch + 1} / {n_epoch}\")\n",
        "    loss_train, acc_train = train_one_epoch(cpc_model, phone_classifier, loss_criterion, data_loader_train, optimizer)\n",
        "    print(\"-------------------\")\n",
        "    print(f\"Training dataset :\")\n",
        "    print(f\"Average loss : {loss_train}. Average accuracy {acc_train}\")\n",
        "\n",
        "    print(\"-------------------\")\n",
        "    print(\"Validation dataset\")\n",
        "    loss_val, acc_val = validation_step(cpc_model, phone_classifier, loss_criterion, data_loader_val)\n",
        "    print(f\"Average loss : {loss_val}. Average accuracy {acc_val}\")\n",
        "    print(\"-------------------\")\n",
        "    print()"
      ],
      "execution_count": 96,
      "outputs": []
    },
    {
      "cell_type": "code",
      "metadata": {
        "colab_type": "code",
        "id": "ceCEO2h2bxAn",
        "colab": {
          "base_uri": "https://localhost:8080/",
          "height": 1000
        },
        "outputId": "8a3bb680-bbc7-48f4-bb2f-cbdbb33208af"
      },
      "source": [
        "run(cpc_model,phone_classifier,loss_criterion,data_loader_train,data_loader_val,optimizer_frozen,n_epoch=56)"
      ],
      "execution_count": 97,
      "outputs": [
        {
          "output_type": "stream",
          "text": [
            "Running epoch 1 / 56\n",
            "-------------------\n",
            "Training dataset :\n",
            "Average loss : 3.9678571083966423. Average accuracy 0.05026424632352941\n",
            "-------------------\n",
            "Validation dataset\n",
            "Average loss : 3.9052011966705322. Average accuracy 0.047200520833333336\n",
            "-------------------\n",
            "\n",
            "Running epoch 2 / 56\n",
            "-------------------\n",
            "Training dataset :\n",
            "Average loss : 3.8754375682157627. Average accuracy 0.052504595588235295\n",
            "-------------------\n",
            "Validation dataset\n",
            "Average loss : 3.8098486264546714. Average accuracy 0.0537109375\n",
            "-------------------\n",
            "\n",
            "Running epoch 3 / 56\n",
            "-------------------\n",
            "Training dataset :\n",
            "Average loss : 3.7886395314160515. Average accuracy 0.05531939338235294\n",
            "-------------------\n",
            "Validation dataset\n",
            "Average loss : 3.7248002688090005. Average accuracy 0.058268229166666664\n",
            "-------------------\n",
            "\n",
            "Running epoch 4 / 56\n",
            "-------------------\n",
            "Training dataset :\n",
            "Average loss : 3.707730433520149. Average accuracy 0.05911075367647059\n",
            "-------------------\n",
            "Validation dataset\n",
            "Average loss : 3.6525112787882485. Average accuracy 0.057291666666666664\n",
            "-------------------\n",
            "\n",
            "Running epoch 5 / 56\n",
            "-------------------\n",
            "Training dataset :\n",
            "Average loss : 3.6466674243702606. Average accuracy 0.06048943014705882\n",
            "-------------------\n",
            "Validation dataset\n",
            "Average loss : 3.5767716566721597. Average accuracy 0.06705729166666667\n",
            "-------------------\n",
            "\n",
            "Running epoch 6 / 56\n",
            "-------------------\n",
            "Training dataset :\n",
            "Average loss : 3.584050977931303. Average accuracy 0.06588924632352941\n",
            "-------------------\n",
            "Validation dataset\n",
            "Average loss : 3.52621857325236. Average accuracy 0.0703125\n",
            "-------------------\n",
            "\n",
            "Running epoch 7 / 56\n",
            "-------------------\n",
            "Training dataset :\n",
            "Average loss : 3.5291793065912582. Average accuracy 0.08306525735294118\n",
            "-------------------\n",
            "Validation dataset\n",
            "Average loss : 3.473097244898478. Average accuracy 0.11360677083333333\n",
            "-------------------\n",
            "\n",
            "Running epoch 8 / 56\n",
            "-------------------\n",
            "Training dataset :\n",
            "Average loss : 3.480769620222204. Average accuracy 0.1144875919117647\n",
            "-------------------\n",
            "Validation dataset\n",
            "Average loss : 3.4233709971110025. Average accuracy 0.1259765625\n",
            "-------------------\n",
            "\n",
            "Running epoch 9 / 56\n",
            "-------------------\n",
            "Training dataset :\n",
            "Average loss : 3.432486982906566. Average accuracy 0.12218520220588236\n",
            "-------------------\n",
            "Validation dataset\n",
            "Average loss : 3.3740522861480713. Average accuracy 0.130859375\n",
            "-------------------\n",
            "\n",
            "Running epoch 10 / 56\n",
            "-------------------\n",
            "Training dataset :\n",
            "Average loss : 3.395513562595143. Average accuracy 0.13206571691176472\n",
            "-------------------\n",
            "Validation dataset\n",
            "Average loss : 3.349799315134684. Average accuracy 0.13899739583333334\n",
            "-------------------\n",
            "\n",
            "Running epoch 11 / 56\n",
            "-------------------\n",
            "Training dataset :\n",
            "Average loss : 3.3527272448820225. Average accuracy 0.13959099264705882\n",
            "-------------------\n",
            "Validation dataset\n",
            "Average loss : 3.315626780192057. Average accuracy 0.14290364583333334\n",
            "-------------------\n",
            "\n",
            "Running epoch 12 / 56\n",
            "-------------------\n",
            "Training dataset :\n",
            "Average loss : 3.3221461211933807. Average accuracy 0.14705882352941177\n",
            "-------------------\n",
            "Validation dataset\n",
            "Average loss : 3.2708447774251304. Average accuracy 0.15104166666666666\n",
            "-------------------\n",
            "\n",
            "Running epoch 13 / 56\n",
            "-------------------\n",
            "Training dataset :\n",
            "Average loss : 3.2956992037156048. Average accuracy 0.1474609375\n",
            "-------------------\n",
            "Validation dataset\n",
            "Average loss : 3.2500471274058023. Average accuracy 0.16015625\n",
            "-------------------\n",
            "\n",
            "Running epoch 14 / 56\n",
            "-------------------\n",
            "Training dataset :\n",
            "Average loss : 3.2667445294997273. Average accuracy 0.15355009191176472\n",
            "-------------------\n",
            "Validation dataset\n",
            "Average loss : 3.233410914738973. Average accuracy 0.16243489583333334\n",
            "-------------------\n",
            "\n",
            "Running epoch 15 / 56\n",
            "-------------------\n",
            "Training dataset :\n",
            "Average loss : 3.238003043567433. Average accuracy 0.15785845588235295\n",
            "-------------------\n",
            "Validation dataset\n",
            "Average loss : 3.2108179728190103. Average accuracy 0.16243489583333334\n",
            "-------------------\n",
            "\n",
            "Running epoch 16 / 56\n",
            "-------------------\n",
            "Training dataset :\n",
            "Average loss : 3.217328478308285. Average accuracy 0.16015625\n",
            "-------------------\n",
            "Validation dataset\n",
            "Average loss : 3.1866344610850015. Average accuracy 0.16373697916666666\n",
            "-------------------\n",
            "\n",
            "Running epoch 17 / 56\n",
            "-------------------\n",
            "Training dataset :\n",
            "Average loss : 3.1958713671740364. Average accuracy 0.16515395220588236\n",
            "-------------------\n",
            "Validation dataset\n",
            "Average loss : 3.175889015197754. Average accuracy 0.16731770833333334\n",
            "-------------------\n",
            "\n",
            "Running epoch 18 / 56\n",
            "-------------------\n",
            "Training dataset :\n",
            "Average loss : 3.18187580389135. Average accuracy 0.16739430147058823\n",
            "-------------------\n",
            "Validation dataset\n",
            "Average loss : 3.1584245363871255. Average accuracy 0.17317708333333334\n",
            "-------------------\n",
            "\n",
            "Running epoch 19 / 56\n",
            "-------------------\n",
            "Training dataset :\n",
            "Average loss : 3.1611343271592083. Average accuracy 0.17101332720588236\n",
            "-------------------\n",
            "Validation dataset\n",
            "Average loss : 3.1454288959503174. Average accuracy 0.1748046875\n",
            "-------------------\n",
            "\n",
            "Running epoch 20 / 56\n",
            "-------------------\n",
            "Training dataset :\n",
            "Average loss : 3.1474001547869515. Average accuracy 0.17072610294117646\n",
            "-------------------\n",
            "Validation dataset\n",
            "Average loss : 3.1209277311960855. Average accuracy 0.18001302083333334\n",
            "-------------------\n",
            "\n",
            "Running epoch 21 / 56\n",
            "-------------------\n",
            "Training dataset :\n",
            "Average loss : 3.134344732060152. Average accuracy 0.17342601102941177\n",
            "-------------------\n",
            "Validation dataset\n",
            "Average loss : 3.1024207274119058. Average accuracy 0.18033854166666666\n",
            "-------------------\n",
            "\n",
            "Running epoch 22 / 56\n",
            "-------------------\n",
            "Training dataset :\n",
            "Average loss : 3.119601109448601. Average accuracy 0.17687270220588236\n",
            "-------------------\n",
            "Validation dataset\n",
            "Average loss : 3.099898338317871. Average accuracy 0.18359375\n",
            "-------------------\n",
            "\n",
            "Running epoch 23 / 56\n",
            "-------------------\n",
            "Training dataset :\n",
            "Average loss : 3.106982988469741. Average accuracy 0.17859604779411764\n",
            "-------------------\n",
            "Validation dataset\n",
            "Average loss : 3.090033928553263. Average accuracy 0.17936197916666666\n",
            "-------------------\n",
            "\n",
            "Running epoch 24 / 56\n",
            "-------------------\n",
            "Training dataset :\n",
            "Average loss : 3.098026822595035. Average accuracy 0.17945772058823528\n",
            "-------------------\n",
            "Validation dataset\n",
            "Average loss : 3.0866870085398355. Average accuracy 0.18196614583333334\n",
            "-------------------\n",
            "\n",
            "Running epoch 25 / 56\n",
            "-------------------\n",
            "Training dataset :\n",
            "Average loss : 3.089102829203886. Average accuracy 0.18106617647058823\n",
            "-------------------\n",
            "Validation dataset\n",
            "Average loss : 3.0726540883382163. Average accuracy 0.18424479166666666\n",
            "-------------------\n",
            "\n",
            "Running epoch 26 / 56\n",
            "-------------------\n",
            "Training dataset :\n",
            "Average loss : 3.0795399581684784. Average accuracy 0.17985983455882354\n",
            "-------------------\n",
            "Validation dataset\n",
            "Average loss : 3.0725580056508384. Average accuracy 0.18294270833333334\n",
            "-------------------\n",
            "\n",
            "Running epoch 27 / 56\n",
            "-------------------\n",
            "Training dataset :\n",
            "Average loss : 3.071881827186136. Average accuracy 0.18158318014705882\n",
            "-------------------\n",
            "Validation dataset\n",
            "Average loss : 3.0536928176879883. Average accuracy 0.181640625\n",
            "-------------------\n",
            "\n",
            "Running epoch 28 / 56\n",
            "-------------------\n",
            "Training dataset :\n",
            "Average loss : 3.063683131161858. Average accuracy 0.18571920955882354\n",
            "-------------------\n",
            "Validation dataset\n",
            "Average loss : 3.056633631388346. Average accuracy 0.18326822916666666\n",
            "-------------------\n",
            "\n",
            "Running epoch 29 / 56\n",
            "-------------------\n",
            "Training dataset :\n",
            "Average loss : 3.0547587871551514. Average accuracy 0.18468520220588236\n",
            "-------------------\n",
            "Validation dataset\n",
            "Average loss : 3.0350807507832847. Average accuracy 0.18880208333333334\n",
            "-------------------\n",
            "\n",
            "Running epoch 30 / 56\n",
            "-------------------\n",
            "Training dataset :\n",
            "Average loss : 3.0483788462246166. Average accuracy 0.18658088235294118\n",
            "-------------------\n",
            "Validation dataset\n",
            "Average loss : 3.041405439376831. Average accuracy 0.18684895833333334\n",
            "-------------------\n",
            "\n",
            "Running epoch 31 / 56\n",
            "-------------------\n",
            "Training dataset :\n",
            "Average loss : 3.041105733198278. Average accuracy 0.1889935661764706\n",
            "-------------------\n",
            "Validation dataset\n",
            "Average loss : 3.0437435309092202. Average accuracy 0.18326822916666666\n",
            "-------------------\n",
            "\n",
            "Running epoch 32 / 56\n",
            "-------------------\n",
            "Training dataset :\n",
            "Average loss : 3.0359651060665356. Average accuracy 0.18985523897058823\n",
            "-------------------\n",
            "Validation dataset\n",
            "Average loss : 3.036479870478312. Average accuracy 0.1875\n",
            "-------------------\n",
            "\n",
            "Running epoch 33 / 56\n",
            "-------------------\n",
            "Training dataset :\n",
            "Average loss : 3.031026377397425. Average accuracy 0.19025735294117646\n",
            "-------------------\n",
            "Validation dataset\n",
            "Average loss : 3.031989018122355. Average accuracy 0.18717447916666666\n",
            "-------------------\n",
            "\n",
            "Running epoch 34 / 56\n",
            "-------------------\n",
            "Training dataset :\n",
            "Average loss : 3.0249473207137165. Average accuracy 0.18974034926470587\n",
            "-------------------\n",
            "Validation dataset\n",
            "Average loss : 3.029771010080973. Average accuracy 0.185546875\n",
            "-------------------\n",
            "\n",
            "Running epoch 35 / 56\n",
            "-------------------\n",
            "Training dataset :\n",
            "Average loss : 3.0207022498635685. Average accuracy 0.18939568014705882\n",
            "-------------------\n",
            "Validation dataset\n",
            "Average loss : 3.0171686808268228. Average accuracy 0.18782552083333334\n",
            "-------------------\n",
            "\n",
            "Running epoch 36 / 56\n",
            "-------------------\n",
            "Training dataset :\n",
            "Average loss : 3.015716188094195. Average accuracy 0.19100413602941177\n",
            "-------------------\n",
            "Validation dataset\n",
            "Average loss : 3.017395496368408. Average accuracy 0.18782552083333334\n",
            "-------------------\n",
            "\n",
            "Running epoch 37 / 56\n",
            "-------------------\n",
            "Training dataset :\n",
            "Average loss : 3.0104209535262165. Average accuracy 0.19175091911764705\n",
            "-------------------\n",
            "Validation dataset\n",
            "Average loss : 3.010927677154541. Average accuracy 0.18815104166666666\n",
            "-------------------\n",
            "\n",
            "Running epoch 38 / 56\n",
            "-------------------\n",
            "Training dataset :\n",
            "Average loss : 3.007891668992884. Average accuracy 0.19358915441176472\n",
            "-------------------\n",
            "Validation dataset\n",
            "Average loss : 3.0029712518056235. Average accuracy 0.18489583333333334\n",
            "-------------------\n",
            "\n",
            "Running epoch 39 / 56\n",
            "-------------------\n",
            "Training dataset :\n",
            "Average loss : 3.001421058879179. Average accuracy 0.19209558823529413\n",
            "-------------------\n",
            "Validation dataset\n",
            "Average loss : 3.0006044705708823. Average accuracy 0.19108072916666666\n",
            "-------------------\n",
            "\n",
            "Running epoch 40 / 56\n",
            "-------------------\n",
            "Training dataset :\n",
            "Average loss : 2.997999766293694. Average accuracy 0.1918658088235294\n",
            "-------------------\n",
            "Validation dataset\n",
            "Average loss : 2.9992571671803794. Average accuracy 0.1904296875\n",
            "-------------------\n",
            "\n",
            "Running epoch 41 / 56\n",
            "-------------------\n",
            "Training dataset :\n",
            "Average loss : 2.9957836796255672. Average accuracy 0.19376148897058823\n",
            "-------------------\n",
            "Validation dataset\n",
            "Average loss : 3.0026937325795493. Average accuracy 0.1875\n",
            "-------------------\n",
            "\n",
            "Running epoch 42 / 56\n",
            "-------------------\n",
            "Training dataset :\n",
            "Average loss : 2.9925967384787167. Average accuracy 0.19215303308823528\n",
            "-------------------\n",
            "Validation dataset\n",
            "Average loss : 2.9967379570007324. Average accuracy 0.1884765625\n",
            "-------------------\n",
            "\n",
            "Running epoch 43 / 56\n",
            "-------------------\n",
            "Training dataset :\n",
            "Average loss : 2.9890219744514015. Average accuracy 0.19301470588235295\n",
            "-------------------\n",
            "Validation dataset\n",
            "Average loss : 3.001915534337362. Average accuracy 0.18717447916666666\n",
            "-------------------\n",
            "\n",
            "Running epoch 44 / 56\n",
            "-------------------\n",
            "Training dataset :\n",
            "Average loss : 2.9863121509552. Average accuracy 0.19427849264705882\n",
            "-------------------\n",
            "Validation dataset\n",
            "Average loss : 2.9929248491923013. Average accuracy 0.19010416666666666\n",
            "-------------------\n",
            "\n",
            "Running epoch 45 / 56\n",
            "-------------------\n",
            "Training dataset :\n",
            "Average loss : 2.984851037754732. Average accuracy 0.19393382352941177\n",
            "-------------------\n",
            "Validation dataset\n",
            "Average loss : 3.001333793004354. Average accuracy 0.18522135416666666\n",
            "-------------------\n",
            "\n",
            "Running epoch 46 / 56\n",
            "-------------------\n",
            "Training dataset :\n",
            "Average loss : 2.980443421532126. Average accuracy 0.19439338235294118\n",
            "-------------------\n",
            "Validation dataset\n",
            "Average loss : 2.990909735361735. Average accuracy 0.18717447916666666\n",
            "-------------------\n",
            "\n",
            "Running epoch 47 / 56\n",
            "-------------------\n",
            "Training dataset :\n",
            "Average loss : 2.979992614072912. Average accuracy 0.19468060661764705\n",
            "-------------------\n",
            "Validation dataset\n",
            "Average loss : 2.9935938517252603. Average accuracy 0.1865234375\n",
            "-------------------\n",
            "\n",
            "Running epoch 48 / 56\n",
            "-------------------\n",
            "Training dataset :\n",
            "Average loss : 2.9748603175668156. Average accuracy 0.19600183823529413\n",
            "-------------------\n",
            "Validation dataset\n",
            "Average loss : 2.9966444969177246. Average accuracy 0.1865234375\n",
            "-------------------\n",
            "\n",
            "Running epoch 49 / 56\n",
            "-------------------\n",
            "Training dataset :\n",
            "Average loss : 2.974630215588738. Average accuracy 0.19462316176470587\n",
            "-------------------\n",
            "Validation dataset\n",
            "Average loss : 2.99211057027181. Average accuracy 0.18717447916666666\n",
            "-------------------\n",
            "\n",
            "Running epoch 50 / 56\n",
            "-------------------\n",
            "Training dataset :\n",
            "Average loss : 2.9723122821134678. Average accuracy 0.1948529411764706\n",
            "-------------------\n",
            "Validation dataset\n",
            "Average loss : 2.9858078161875405. Average accuracy 0.1875\n",
            "-------------------\n",
            "\n",
            "Running epoch 51 / 56\n",
            "-------------------\n",
            "Training dataset :\n",
            "Average loss : 2.96798111410702. Average accuracy 0.19542738970588236\n",
            "-------------------\n",
            "Validation dataset\n",
            "Average loss : 2.9876937866210938. Average accuracy 0.1875\n",
            "-------------------\n",
            "\n",
            "Running epoch 52 / 56\n",
            "-------------------\n",
            "Training dataset :\n",
            "Average loss : 2.968575084910673. Average accuracy 0.19617417279411764\n",
            "-------------------\n",
            "Validation dataset\n",
            "Average loss : 2.970505952835083. Average accuracy 0.18782552083333334\n",
            "-------------------\n",
            "\n",
            "Running epoch 53 / 56\n",
            "-------------------\n",
            "Training dataset :\n",
            "Average loss : 2.964500441270716. Average accuracy 0.19663373161764705\n",
            "-------------------\n",
            "Validation dataset\n",
            "Average loss : 2.9914089838663735. Average accuracy 0.1875\n",
            "-------------------\n",
            "\n",
            "Running epoch 54 / 56\n",
            "-------------------\n",
            "Training dataset :\n",
            "Average loss : 2.9635243275586296. Average accuracy 0.19571461397058823\n",
            "-------------------\n",
            "Validation dataset\n",
            "Average loss : 2.9717605113983154. Average accuracy 0.18880208333333334\n",
            "-------------------\n",
            "\n",
            "Running epoch 55 / 56\n",
            "-------------------\n",
            "Training dataset :\n",
            "Average loss : 2.9627501403584198. Average accuracy 0.19617417279411764\n",
            "-------------------\n",
            "Validation dataset\n",
            "Average loss : 2.9787962436676025. Average accuracy 0.1884765625\n",
            "-------------------\n",
            "\n",
            "Running epoch 56 / 56\n",
            "-------------------\n",
            "Training dataset :\n",
            "Average loss : 2.9626321231617645. Average accuracy 0.19542738970588236\n",
            "-------------------\n",
            "Validation dataset\n",
            "Average loss : 2.9814995924631753. Average accuracy 0.1875\n",
            "-------------------\n",
            "\n"
          ],
          "name": "stdout"
        }
      ]
    },
    {
      "cell_type": "markdown",
      "metadata": {
        "colab_type": "text",
        "id": "TdfWDiFnylMT"
      },
      "source": [
        "## Exercise 2 : Phone separability without alignment (PER)\n",
        "\n",
        "Aligned data are very practical, but un real life they are rarely available. That's why in this excercise we will consider a fine-tuning with non-aligned phonemes.\n",
        "\n",
        "The model, the optimizer and the phone classifier will stay the same. However, we will replace our phone criterion with a [CTC loss](https://pytorch.org/docs/master/generated/torch.nn.CTCLoss.html). "
      ]
    },
    {
      "cell_type": "code",
      "metadata": {
        "colab_type": "code",
        "id": "_9BpM_Lpzgx8",
        "colab": {}
      },
      "source": [
        "loss_ctc = torch.nn.CTCLoss()"
      ],
      "execution_count": 98,
      "outputs": []
    },
    {
      "cell_type": "markdown",
      "metadata": {
        "colab_type": "text",
        "id": "AQpYgTyfzsrq"
      },
      "source": [
        "Besides, we will use a siglthy different dataset class."
      ]
    },
    {
      "cell_type": "code",
      "metadata": {
        "colab_type": "code",
        "id": "9HRxoatlz3ZZ",
        "colab": {
          "base_uri": "https://localhost:8080/",
          "height": 276
        },
        "outputId": "939ea03b-fd8c-4ef3-c76a-b3df13bb3de5"
      },
      "source": [
        "%cd /content/CPC_audio\n",
        "from cpc.eval.common_voices_eval import SingleSequenceDataset, parseSeqLabels, findAllSeqs\n",
        "path_train_data_per = '/content/gdrive/My Drive/Datasets/data/records/train'\n",
        "path_val_data_per = '/content/gdrive/My Drive/Datasets/data/records/val'\n",
        "path_test_data_per = '/content/gdrive/My Drive/Datasets/data/records/test'\n",
        "path_phone_data_per = '/content/gdrive/My Drive/Datasets/data/chars.txt'\n",
        "BATCH_SIZE=2\n",
        "\n",
        "phone_labels, N_PHONES = parseSeqLabels(path_phone_data_per)\n",
        "data_train_per, _ = findAllSeqs(path_train_data_per, extension='.wav')\n",
        "dataset_train_non_aligned = SingleSequenceDataset(path_train_data_per, data_train_per, phone_labels)\n",
        "data_loader_train = torch.utils.data.DataLoader(dataset_train_non_aligned, batch_size=BATCH_SIZE,shuffle=True)\n",
        "\n",
        "data_val_per, _ = findAllSeqs(path_val_data_per, extension='.wav')\n",
        "dataset_val_non_aligned = SingleSequenceDataset(path_val_data_per, data_val_per, phone_labels)\n",
        "data_loader_val = torch.utils.data.DataLoader(dataset_val_non_aligned, batch_size=BATCH_SIZE,shuffle=True)"
      ],
      "execution_count": 99,
      "outputs": [
        {
          "output_type": "stream",
          "text": [
            "1it [00:00, 149.90it/s]"
          ],
          "name": "stderr"
        },
        {
          "output_type": "stream",
          "text": [
            "/content/CPC_audio\n",
            "Saved cache file at /content/gdrive/My Drive/Datasets/data/records/train/_seqs_cache.txt\n"
          ],
          "name": "stdout"
        },
        {
          "output_type": "stream",
          "text": [
            "\n",
            "1it [00:00, 163.12it/s]"
          ],
          "name": "stderr"
        },
        {
          "output_type": "stream",
          "text": [
            "Loaded 333 sequences in 5.71 seconds\n",
            "maxSizeSeq : 299838\n",
            "maxSizePhone : 173\n",
            "minSizePhone : 11\n",
            "Total size dataset 0.6694626736111111 hours\n",
            "Saved cache file at /content/gdrive/My Drive/Datasets/data/records/val/_seqs_cache.txt\n"
          ],
          "name": "stdout"
        },
        {
          "output_type": "stream",
          "text": [
            "\n"
          ],
          "name": "stderr"
        },
        {
          "output_type": "stream",
          "text": [
            "Loaded 83 sequences in 2.27 seconds\n",
            "maxSizeSeq : 224697\n",
            "maxSizePhone : 120\n",
            "minSizePhone : 8\n",
            "Total size dataset 0.1556303298611111 hours\n"
          ],
          "name": "stdout"
        }
      ]
    },
    {
      "cell_type": "code",
      "metadata": {
        "id": "3XIpogshrZeb",
        "colab_type": "code",
        "colab": {
          "base_uri": "https://localhost:8080/",
          "height": 138
        },
        "outputId": "fd3d2ae8-74ec-4fd2-f395-d835d18d7dbf"
      },
      "source": [
        "#path_test_data_per = '/content/gdrive/My Drive/DATA/Test'\n",
        "data_test_per, _ = findAllSeqs(path_test_data_per, extension='.wav')\n",
        "dataset_test_non_aligned = SingleSequenceDataset(path_test_data_per, data_test_per, phone_labels)\n",
        "data_loader_test = torch.utils.data.DataLoader(dataset_test_non_aligned, batch_size=BATCH_SIZE,shuffle=True)"
      ],
      "execution_count": 100,
      "outputs": [
        {
          "output_type": "stream",
          "text": [
            "1it [00:00, 75.66it/s]"
          ],
          "name": "stderr"
        },
        {
          "output_type": "stream",
          "text": [
            "Saved cache file at /content/gdrive/My Drive/Datasets/data/records/test/_seqs_cache.txt\n"
          ],
          "name": "stdout"
        },
        {
          "output_type": "stream",
          "text": [
            "\n"
          ],
          "name": "stderr"
        },
        {
          "output_type": "stream",
          "text": [
            "Loaded 416 sequences in 3.88 seconds\n",
            "maxSizeSeq : 288585\n",
            "maxSizePhone : 172\n",
            "minSizePhone : 13\n",
            "Total size dataset 0.8386270138888889 hours\n"
          ],
          "name": "stdout"
        }
      ]
    },
    {
      "cell_type": "markdown",
      "metadata": {
        "colab_type": "text",
        "id": "GwAckY62z7s9"
      },
      "source": [
        "### a- Training\n",
        "\n",
        "Since the phonemes are not aligned, there is no simple direct way to get the classification acuracy of a model. Write and test the three functions ```train_one_epoch_ctc```, ```validation_step_ctc``` and ```run_ctc``` as before but without considering the average acuracy of the model. "
      ]
    },
    {
      "cell_type": "code",
      "metadata": {
        "colab_type": "code",
        "id": "oYg5YzW8EHl4",
        "colab": {
          "base_uri": "https://localhost:8080/",
          "height": 52
        },
        "outputId": "0228829b-8977-484e-9c18-f0b2a68c5ec9"
      },
      "source": [
        "from cpc.feature_loader import loadModel\n",
        "\n",
        "checkpoint_path = 'checkpoint_data/checkpoint_30.pt'\n",
        "cpc_model, HIDDEN_CONTEXT_MODEL, HIDDEN_ENCODER_MODEL = loadModel([checkpoint_path])\n",
        "cpc_model = cpc_model.cuda()\n",
        "phone_classifier = PhoneClassifier(HIDDEN_CONTEXT_MODEL, N_PHONES).to(device)"
      ],
      "execution_count": 101,
      "outputs": [
        {
          "output_type": "stream",
          "text": [
            "Loading checkpoint checkpoint_data/checkpoint_30.pt\n",
            "Loading the state dict at checkpoint_data/checkpoint_30.pt\n"
          ],
          "name": "stdout"
        }
      ]
    },
    {
      "cell_type": "code",
      "metadata": {
        "colab_type": "code",
        "id": "CFQ2g3PjErdZ",
        "colab": {}
      },
      "source": [
        "parameters = list(phone_classifier.parameters()) + list(cpc_model.parameters())\n",
        "LEARNING_RATE = 2e-4\n",
        "optimizer = torch.optim.Adam(parameters, lr=LEARNING_RATE)\n",
        "\n",
        "optimizer_frozen = torch.optim.Adam(list(phone_classifier.parameters()), lr=LEARNING_RATE)"
      ],
      "execution_count": 102,
      "outputs": []
    },
    {
      "cell_type": "code",
      "metadata": {
        "colab_type": "code",
        "id": "Zsgjv3cD0oqD",
        "colab": {}
      },
      "source": [
        "import torch.nn.functional as F\n",
        "\n",
        "def train_one_epoch_ctc(cpc_model,phone_classifier,loss_criterion,data_loader,optimizer):\n",
        "  \n",
        "  cpc_model.train()\n",
        "  loss_criterion.train()\n",
        "\n",
        "  avg_loss = 0\n",
        "  avg_accuracy = 0\n",
        "  n_items = 0\n",
        "  for step, full_data in enumerate(data_loader):\n",
        "\n",
        "    x, x_len, y, y_len = full_data\n",
        "\n",
        "    x_batch_len = x.shape[-1]\n",
        "    x, y = x.to(device), y.to(device)\n",
        "\n",
        "    bs=x.size(0)\n",
        "    optimizer.zero_grad()\n",
        "    context_out, enc_out, _ = cpc_model(x.to(device),y.to(device))\n",
        "  \n",
        "    scores = phone_classifier(context_out)\n",
        "    scores = scores.permute(1,0,2)\n",
        "    scores = F.log_softmax(scores,2)\n",
        "    yhat_len = torch.tensor([int(scores.shape[0]*x_len[i]/x_batch_len) for i in range(scores.shape[1])]) # this is an approximation, should be good enough\n",
        "\n",
        "    loss = loss_criterion(scores,y.to(device),yhat_len,y_len)\n",
        "    loss.backward()\n",
        "    optimizer.step()\n",
        "    avg_loss+=loss.item()*bs\n",
        "    n_items+=bs\n",
        "  avg_loss/=n_items\n",
        "  return avg_loss\n",
        "\n",
        "def validation_step(cpc_model,phone_classifier,loss_criterion,data_loader):\n",
        "\n",
        "  cpc_model.eval()\n",
        "  phone_classifier.eval()\n",
        "  avg_loss = 0\n",
        "  avg_accuracy = 0\n",
        "  n_items = 0\n",
        "  with torch.no_grad():\n",
        "    for step, full_data in enumerate(data_loader):\n",
        "\n",
        "      x, x_len, y, y_len = full_data\n",
        "\n",
        "      x_batch_len = x.shape[-1]\n",
        "      x, y = x.to(device), y.to(device)\n",
        "\n",
        "      bs=x.size(0)\n",
        "      context_out, enc_out, _ = cpc_model(x.to(device),y.to(device))\n",
        "    \n",
        "      scores = phone_classifier(context_out)\n",
        "      scores = scores.permute(1,0,2)\n",
        "      scores = F.log_softmax(scores,2)\n",
        "      yhat_len = torch.tensor([int(scores.shape[0]*x_len[i]/x_batch_len) for i in range(scores.shape[1])]) # this is an approximation, should be good enough\n",
        "\n",
        "      loss = loss_criterion(scores,y.to(device),yhat_len,y_len)\n",
        "      avg_loss+=loss.item()*bs\n",
        "      n_items+=bs\n",
        "  avg_loss/=n_items\n",
        "\n",
        "  return avg_loss\n",
        "\n",
        "def run_ctc(cpc_model,phone_classifier,loss_criterion,data_loader_train,data_loader_val,optimizer,n_epoch):\n",
        "  for epoch in range(n_epoch):\n",
        "\n",
        "    print(f\"Running epoch {epoch + 1} / {n_epoch}\")\n",
        "    loss_train = train_one_epoch_ctc(cpc_model, phone_classifier, loss_criterion, data_loader_train, optimizer)\n",
        "    print(\"-------------------\")\n",
        "    print(f\"Training dataset :\")\n",
        "    print(f\"Average loss : {loss_train}.\")\n",
        "\n",
        "    print(\"-------------------\")\n",
        "    print(\"Validation dataset\")\n",
        "    loss_val = validation_step(cpc_model, phone_classifier, loss_criterion, data_loader_val)\n",
        "    print(f\"Average loss : {loss_val}\")\n",
        "    print(\"-------------------\")\n",
        "    print()"
      ],
      "execution_count": 103,
      "outputs": []
    },
    {
      "cell_type": "code",
      "metadata": {
        "colab_type": "code",
        "id": "GSr7tcUdD72c",
        "colab": {
          "base_uri": "https://localhost:8080/",
          "height": 1000
        },
        "outputId": "4d089f2b-0ad0-4f7e-e1a6-28303623be05"
      },
      "source": [
        "run_ctc(cpc_model,phone_classifier,loss_ctc,data_loader_train,data_loader_val,optimizer_frozen,n_epoch=36)"
      ],
      "execution_count": 104,
      "outputs": [
        {
          "output_type": "stream",
          "text": [
            "Running epoch 1 / 36\n",
            "-------------------\n",
            "Training dataset :\n",
            "Average loss : 44.01773868698672.\n",
            "-------------------\n",
            "Validation dataset\n",
            "Average loss : 36.16663114036002\n",
            "-------------------\n",
            "\n",
            "Running epoch 2 / 36\n",
            "-------------------\n",
            "Training dataset :\n",
            "Average loss : 26.550272056855352.\n",
            "-------------------\n",
            "Validation dataset\n",
            "Average loss : 21.037655109312475\n",
            "-------------------\n",
            "\n",
            "Running epoch 3 / 36\n",
            "-------------------\n",
            "Training dataset :\n",
            "Average loss : 15.848492702805853.\n",
            "-------------------\n",
            "Validation dataset\n",
            "Average loss : 13.815662546855647\n",
            "-------------------\n",
            "\n",
            "Running epoch 4 / 36\n",
            "-------------------\n",
            "Training dataset :\n",
            "Average loss : 10.951273202896118.\n",
            "-------------------\n",
            "Validation dataset\n",
            "Average loss : 10.583320303661067\n",
            "-------------------\n",
            "\n",
            "Running epoch 5 / 36\n",
            "-------------------\n",
            "Training dataset :\n",
            "Average loss : 8.69667473184057.\n",
            "-------------------\n",
            "Validation dataset\n",
            "Average loss : 9.010217213049167\n",
            "-------------------\n",
            "\n",
            "Running epoch 6 / 36\n",
            "-------------------\n",
            "Training dataset :\n",
            "Average loss : 7.527774684400444.\n",
            "-------------------\n",
            "Validation dataset\n",
            "Average loss : 8.134720348730319\n",
            "-------------------\n",
            "\n",
            "Running epoch 7 / 36\n",
            "-------------------\n",
            "Training dataset :\n",
            "Average loss : 6.843293965580952.\n",
            "-------------------\n",
            "Validation dataset\n",
            "Average loss : 7.591080130600348\n",
            "-------------------\n",
            "\n",
            "Running epoch 8 / 36\n",
            "-------------------\n",
            "Training dataset :\n",
            "Average loss : 6.398036376539483.\n",
            "-------------------\n",
            "Validation dataset\n",
            "Average loss : 7.2232297920599216\n",
            "-------------------\n",
            "\n",
            "Running epoch 9 / 36\n",
            "-------------------\n",
            "Training dataset :\n",
            "Average loss : 6.084637294332665.\n",
            "-------------------\n",
            "Validation dataset\n",
            "Average loss : 6.952486212660626\n",
            "-------------------\n",
            "\n",
            "Running epoch 10 / 36\n",
            "-------------------\n",
            "Training dataset :\n",
            "Average loss : 5.8499893510198016.\n",
            "-------------------\n",
            "Validation dataset\n",
            "Average loss : 6.748744127227039\n",
            "-------------------\n",
            "\n",
            "Running epoch 11 / 36\n",
            "-------------------\n",
            "Training dataset :\n",
            "Average loss : 5.665982760578753.\n",
            "-------------------\n",
            "Validation dataset\n",
            "Average loss : 6.585962342052925\n",
            "-------------------\n",
            "\n",
            "Running epoch 12 / 36\n",
            "-------------------\n",
            "Training dataset :\n",
            "Average loss : 5.517880692539445.\n",
            "-------------------\n",
            "Validation dataset\n",
            "Average loss : 6.457242360929164\n",
            "-------------------\n",
            "\n",
            "Running epoch 13 / 36\n",
            "-------------------\n",
            "Training dataset :\n",
            "Average loss : 5.394333649830646.\n",
            "-------------------\n",
            "Validation dataset\n",
            "Average loss : 6.356852136007169\n",
            "-------------------\n",
            "\n",
            "Running epoch 14 / 36\n",
            "-------------------\n",
            "Training dataset :\n",
            "Average loss : 5.289469698825514.\n",
            "-------------------\n",
            "Validation dataset\n",
            "Average loss : 6.268651415662068\n",
            "-------------------\n",
            "\n",
            "Running epoch 15 / 36\n",
            "-------------------\n",
            "Training dataset :\n",
            "Average loss : 5.199488845216223.\n",
            "-------------------\n",
            "Validation dataset\n",
            "Average loss : 6.1932716253327165\n",
            "-------------------\n",
            "\n",
            "Running epoch 16 / 36\n",
            "-------------------\n",
            "Training dataset :\n",
            "Average loss : 5.121556852237288.\n",
            "-------------------\n",
            "Validation dataset\n",
            "Average loss : 6.13148505513261\n",
            "-------------------\n",
            "\n",
            "Running epoch 17 / 36\n",
            "-------------------\n",
            "Training dataset :\n",
            "Average loss : 5.052530874688942.\n",
            "-------------------\n",
            "Validation dataset\n",
            "Average loss : 6.069689983274879\n",
            "-------------------\n",
            "\n",
            "Running epoch 18 / 36\n",
            "-------------------\n",
            "Training dataset :\n",
            "Average loss : 4.991772216486644.\n",
            "-------------------\n",
            "Validation dataset\n",
            "Average loss : 6.022225193861054\n",
            "-------------------\n",
            "\n",
            "Running epoch 19 / 36\n",
            "-------------------\n",
            "Training dataset :\n",
            "Average loss : 4.9367508514817935.\n",
            "-------------------\n",
            "Validation dataset\n",
            "Average loss : 5.985082713569083\n",
            "-------------------\n",
            "\n",
            "Running epoch 20 / 36\n",
            "-------------------\n",
            "Training dataset :\n",
            "Average loss : 4.888586914682963.\n",
            "-------------------\n",
            "Validation dataset\n",
            "Average loss : 5.947097161921059\n",
            "-------------------\n",
            "\n",
            "Running epoch 21 / 36\n",
            "-------------------\n",
            "Training dataset :\n",
            "Average loss : 4.844371952206256.\n",
            "-------------------\n",
            "Validation dataset\n",
            "Average loss : 5.916651702508694\n",
            "-------------------\n",
            "\n",
            "Running epoch 22 / 36\n",
            "-------------------\n",
            "Training dataset :\n",
            "Average loss : 4.804109299039266.\n",
            "-------------------\n",
            "Validation dataset\n",
            "Average loss : 5.880608285345683\n",
            "-------------------\n",
            "\n",
            "Running epoch 23 / 36\n",
            "-------------------\n",
            "Training dataset :\n",
            "Average loss : 4.7673619727054275.\n",
            "-------------------\n",
            "Validation dataset\n",
            "Average loss : 5.853365892317237\n",
            "-------------------\n",
            "\n",
            "Running epoch 24 / 36\n",
            "-------------------\n",
            "Training dataset :\n",
            "Average loss : 4.734636018075139.\n",
            "-------------------\n",
            "Validation dataset\n",
            "Average loss : 5.838455752628605\n",
            "-------------------\n",
            "\n",
            "Running epoch 25 / 36\n",
            "-------------------\n",
            "Training dataset :\n",
            "Average loss : 4.702468593436551.\n",
            "-------------------\n",
            "Validation dataset\n",
            "Average loss : 5.81518795432114\n",
            "-------------------\n",
            "\n",
            "Running epoch 26 / 36\n",
            "-------------------\n",
            "Training dataset :\n",
            "Average loss : 4.673652091658259.\n",
            "-------------------\n",
            "Validation dataset\n",
            "Average loss : 5.803855500570157\n",
            "-------------------\n",
            "\n",
            "Running epoch 27 / 36\n",
            "-------------------\n",
            "Training dataset :\n",
            "Average loss : 4.647237715950931.\n",
            "-------------------\n",
            "Validation dataset\n",
            "Average loss : 5.781970669583576\n",
            "-------------------\n",
            "\n",
            "Running epoch 28 / 36\n",
            "-------------------\n",
            "Training dataset :\n",
            "Average loss : 4.622216135622507.\n",
            "-------------------\n",
            "Validation dataset\n",
            "Average loss : 5.77599280636485\n",
            "-------------------\n",
            "\n",
            "Running epoch 29 / 36\n",
            "-------------------\n",
            "Training dataset :\n",
            "Average loss : 4.598293369074902.\n",
            "-------------------\n",
            "Validation dataset\n",
            "Average loss : 5.765085138925692\n",
            "-------------------\n",
            "\n",
            "Running epoch 30 / 36\n",
            "-------------------\n",
            "Training dataset :\n",
            "Average loss : 4.57659205758428.\n",
            "-------------------\n",
            "Validation dataset\n",
            "Average loss : 5.752485734660451\n",
            "-------------------\n",
            "\n",
            "Running epoch 31 / 36\n",
            "-------------------\n",
            "Training dataset :\n",
            "Average loss : 4.555458346045161.\n",
            "-------------------\n",
            "Validation dataset\n",
            "Average loss : 5.739464945909454\n",
            "-------------------\n",
            "\n",
            "Running epoch 32 / 36\n",
            "-------------------\n",
            "Training dataset :\n",
            "Average loss : 4.536399164831782.\n",
            "-------------------\n",
            "Validation dataset\n",
            "Average loss : 5.733493467656578\n",
            "-------------------\n",
            "\n",
            "Running epoch 33 / 36\n",
            "-------------------\n",
            "Training dataset :\n",
            "Average loss : 4.516114624149828.\n",
            "-------------------\n",
            "Validation dataset\n",
            "Average loss : 5.727686271434877\n",
            "-------------------\n",
            "\n",
            "Running epoch 34 / 36\n",
            "-------------------\n",
            "Training dataset :\n",
            "Average loss : 4.50032489271049.\n",
            "-------------------\n",
            "Validation dataset\n",
            "Average loss : 5.724011124634162\n",
            "-------------------\n",
            "\n",
            "Running epoch 35 / 36\n",
            "-------------------\n",
            "Training dataset :\n",
            "Average loss : 4.483021845300514.\n",
            "-------------------\n",
            "Validation dataset\n",
            "Average loss : 5.71116091565388\n",
            "-------------------\n",
            "\n",
            "Running epoch 36 / 36\n",
            "-------------------\n",
            "Training dataset :\n",
            "Average loss : 4.468411806118057.\n",
            "-------------------\n",
            "Validation dataset\n",
            "Average loss : 5.7081703325597255\n",
            "-------------------\n",
            "\n"
          ],
          "name": "stdout"
        }
      ]
    },
    {
      "cell_type": "markdown",
      "metadata": {
        "colab_type": "text",
        "id": "TKrYW4gK1BBF"
      },
      "source": [
        "### b- Evaluation: the Phone Error Rate (PER)\n",
        "\n",
        "In order to compute the similarity between two sequences, we can use the [Levenshtein distance](https://en.wikipedia.org/wiki/Levenshtein_distance). This distance estimates the minimum number of insertion, deletion and addition to move from one sequence to another. If we normalize this distance by the number of characters in the reference sequence we get the Phone Error Rate (PER).\n",
        "\n",
        "This value can be interpreted as :\n",
        "\\\\[  PER = \\frac{S + D + I}{N} \\\\]\n",
        "\n",
        "Where:\n",
        "\n",
        "\n",
        "*   N is the number of characters in the reference\n",
        "*   S is the number of substitutiion\n",
        "*   I in the number of insertion\n",
        "*   D in the number of deletion\n",
        "\n",
        "For the best possible alignment of the two sequences.\n",
        "\n"
      ]
    },
    {
      "cell_type": "code",
      "metadata": {
        "colab_type": "code",
        "id": "RoBhsx7GNqI_",
        "colab": {}
      },
      "source": [
        "import numpy as np\n",
        "\n",
        "def get_PER_sequence(ref_seq, target_seq):\n",
        "\n",
        "  # re = g.split()\n",
        "  # h = h.split()\n",
        "  n = len(ref_seq)\n",
        "  m = len(target_seq)\n",
        "\n",
        "  D = np.zeros((n+1,m+1))\n",
        "  for i in range(1,n+1):\n",
        "    D[i,0] = D[i-1,0]+1\n",
        "  for j in range(1,m+1):\n",
        "    D[0,j] = D[0,j-1]+1\n",
        "  \n",
        "  ### TODO compute the alignment\n",
        "\n",
        "  for i in range(1,n+1):\n",
        "    for j in range(1,m+1):\n",
        "      D[i,j] = min(\n",
        "          D[i-1,j]+1,\n",
        "          D[i-1,j-1]+1,\n",
        "          D[i,j-1]+1,\n",
        "          D[i-1,j-1]+ 0 if ref_seq[i-1]==target_seq[j-1] else float(\"inf\")\n",
        "      )\n",
        "  return D[n,m]/len(ref_seq)"
      ],
      "execution_count": 105,
      "outputs": []
    },
    {
      "cell_type": "markdown",
      "metadata": {
        "colab_type": "text",
        "id": "r-hr0KK0mgcR"
      },
      "source": [
        "You can test your function below:"
      ]
    },
    {
      "cell_type": "code",
      "metadata": {
        "colab_type": "code",
        "id": "AfTb3yOQmvey",
        "colab": {
          "base_uri": "https://localhost:8080/",
          "height": 35
        },
        "outputId": "6aa21d9c-3082-4776-cd91-89df727828e1"
      },
      "source": [
        "ref_seq = [0, 1, 1, 2, 0, 2, 2]\n",
        "pred_seq = [1, 1, 2, 2, 0, 0]\n",
        "\n",
        "expected_PER = 4. / 7.\n",
        "print(get_PER_sequence(ref_seq, pred_seq) == expected_PER)"
      ],
      "execution_count": 106,
      "outputs": [
        {
          "output_type": "stream",
          "text": [
            "True\n"
          ],
          "name": "stdout"
        }
      ]
    },
    {
      "cell_type": "markdown",
      "metadata": {
        "colab_type": "text",
        "id": "nHiyChl-m_k7"
      },
      "source": [
        "## c- Evaluating the PER of your model on the test dataset\n",
        "\n",
        "Evaluate the PER on the validation dataset. Please notice that you should usually use a separate dataset, called the dev dataset, to perform this operation. However for the sake of simplicity we will work with validation data in this exercise."
      ]
    },
    {
      "cell_type": "code",
      "metadata": {
        "colab_type": "code",
        "id": "DMkX0PoFnclg",
        "colab": {}
      },
      "source": [
        "import progressbar\n",
        "from multiprocessing import Pool\n",
        "\n",
        "def cut_data(seq, sizeSeq):\n",
        "    maxSeq = sizeSeq.max()\n",
        "    return seq[:, :maxSeq]\n",
        "\n",
        "\n",
        "def prepare_data(data):\n",
        "    seq, sizeSeq, phone, sizePhone = data\n",
        "    seq = seq.cuda()\n",
        "    phone = phone.cuda()\n",
        "    sizeSeq = sizeSeq.cuda().view(-1)\n",
        "    sizePhone = sizePhone.cuda().view(-1)\n",
        "\n",
        "    seq = cut_data(seq.permute(0, 2, 1), sizeSeq).permute(0, 2, 1)\n",
        "    return seq, sizeSeq, phone, sizePhone\n",
        "\n",
        "\n",
        "def get_per(test_dataloader,cpc_model,phone_classifier):\n",
        "\n",
        "  downsampling_factor = 160\n",
        "  cpc_model.eval()\n",
        "  phone_classifier.eval()\n",
        "\n",
        "  avgPER = 0\n",
        "  nItems = 0 \n",
        "\n",
        "  print(\"Starting the PER computation through beam search\")\n",
        "  bar = progressbar.ProgressBar(maxval=len(test_dataloader))\n",
        "  bar.start()\n",
        "\n",
        "  for index, data in enumerate(test_dataloader):\n",
        "\n",
        "    bar.update(index)\n",
        "\n",
        "    with torch.no_grad():\n",
        "      \n",
        "        seq, sizeSeq, phone, sizePhone = prepare_data(data)\n",
        "        c_feature, _, _ = cpc_model(seq.to(device),phone.to(device))\n",
        "        sizeSeq = sizeSeq / downsampling_factor\n",
        "        predictions = torch.nn.functional.softmax(\n",
        "        phone_classifier(c_feature), dim=2).cpu()\n",
        "        phone = phone.cpu()\n",
        "        sizeSeq = sizeSeq.cpu()\n",
        "        sizePhone = sizePhone.cpu()\n",
        "\n",
        "        bs = c_feature.size(0)\n",
        "        data_per = [(predictions[b].argmax(1),  phone[b]) for b in range(bs)]\n",
        "        # data_per = [(predictions[b], sizeSeq[b], phone[b], sizePhone[b],\n",
        "        #               \"criterion.module.BLANK_LABEL\") for b in range(bs)]\n",
        "\n",
        "        with Pool(bs) as p:\n",
        "            poolData = p.starmap(get_PER_sequence, data_per)\n",
        "        avgPER += sum([x for x in poolData])\n",
        "        nItems += len(poolData)\n",
        "\n",
        "  bar.finish()\n",
        "\n",
        "  avgPER /= nItems\n",
        "\n",
        "  print(f\"Average CER {avgPER}\")\n",
        "  return avgPER"
      ],
      "execution_count": 107,
      "outputs": []
    },
    {
      "cell_type": "code",
      "metadata": {
        "colab_type": "code",
        "id": "2hvnudh4Osb4",
        "colab": {
          "base_uri": "https://localhost:8080/",
          "height": 86
        },
        "outputId": "5e7b2aeb-6cf5-4b28-a1f8-ef005d640537"
      },
      "source": [
        "get_per(data_loader_val,cpc_model,phone_classifier)"
      ],
      "execution_count": 108,
      "outputs": [
        {
          "output_type": "stream",
          "text": [
            "\r                                                                               \r\rN/A% (0 of 41) |                         | Elapsed Time: 0:00:00 ETA:  --:--:--"
          ],
          "name": "stderr"
        },
        {
          "output_type": "stream",
          "text": [
            "Starting the PER computation through beam search\n"
          ],
          "name": "stdout"
        },
        {
          "output_type": "stream",
          "text": [
            "100% (41 of 41) |########################| Elapsed Time: 0:01:57 Time:  0:01:57\n"
          ],
          "name": "stderr"
        },
        {
          "output_type": "stream",
          "text": [
            "Average CER 0.9848781965099466\n"
          ],
          "name": "stdout"
        },
        {
          "output_type": "execute_result",
          "data": {
            "text/plain": [
              "0.9848781965099466"
            ]
          },
          "metadata": {
            "tags": []
          },
          "execution_count": 108
        }
      ]
    },
    {
      "cell_type": "code",
      "metadata": {
        "id": "jBLabOIUq49t",
        "colab_type": "code",
        "colab": {
          "base_uri": "https://localhost:8080/",
          "height": 86
        },
        "outputId": "8c9276a9-a1f0-4333-cc00-9b5bbaa3c171"
      },
      "source": [
        "#path_test_data_per = '/content/gdrive/My Drive/DATA/Test'\n",
        "#data_test_per, _ = findAllSeqs(path_test_data_per, extension='.wav')\n",
        "#dataset_test_non_aligned = SingleSequenceDataset(path_test_data_per, data_test_per, phone_labels)\n",
        "#data_loader_test = torch.utils.data.DataLoader(dataset_test_non_aligned, batch_size=BATCH_SIZE,shuffle=True)\n",
        "\n",
        "get_per(data_loader_test,cpc_model,phone_classifier)"
      ],
      "execution_count": 109,
      "outputs": [
        {
          "output_type": "stream",
          "text": [
            "\r                                                                               \r\rN/A% (0 of 208) |                        | Elapsed Time: 0:00:00 ETA:  --:--:--"
          ],
          "name": "stderr"
        },
        {
          "output_type": "stream",
          "text": [
            "Starting the PER computation through beam search\n"
          ],
          "name": "stdout"
        },
        {
          "output_type": "stream",
          "text": [
            "100% (208 of 208) |######################| Elapsed Time: 0:15:27 Time:  0:15:27\n"
          ],
          "name": "stderr"
        },
        {
          "output_type": "stream",
          "text": [
            "Average CER 0.9847414346871748\n"
          ],
          "name": "stdout"
        },
        {
          "output_type": "execute_result",
          "data": {
            "text/plain": [
              "0.9847414346871748"
            ]
          },
          "metadata": {
            "tags": []
          },
          "execution_count": 109
        }
      ]
    },
    {
      "cell_type": "markdown",
      "metadata": {
        "colab_type": "text",
        "id": "p8e9D7g8159k"
      },
      "source": [
        "## Exercice 3 : Character error rate (CER) \n",
        "\n",
        "The Character Error Rate (CER) is an evaluation metric similar to the PER but with characters insterad of phonemes. Using the following data, run the functions you defined previously to estimate the CER of your model after fine-tuning."
      ]
    },
    {
      "cell_type": "code",
      "metadata": {
        "colab_type": "code",
        "id": "cXONmKQOuFSn",
        "colab": {
          "base_uri": "https://localhost:8080/",
          "height": 397
        },
        "outputId": "205aebb8-421c-4ff0-ab41-370cb825060e"
      },
      "source": [
        "# Load a dataset labelled with the letters of each sequence.\n",
        "%cd /content/CPC_audio\n",
        "from cpc.eval.common_voices_eval import SingleSequenceDataset, parseSeqLabels, findAllSeqs\n",
        "path_train_data_cer = '/content/gdrive/My Drive/Datasets/data/records/train'\n",
        "path_val_data_cer = '/content/gdrive/My Drive/Datasets/data/records/val'\n",
        "path_test_data_cer = '/content/gdrive/My Drive/Datasets/data/records/test'\n",
        "path_letter_data_cer = '/content/gdrive/My Drive/Datasets/data/chars.txt'\n",
        "BATCH_SIZE=2\n",
        "\n",
        "letters_labels, N_LETTERS = parseSeqLabels(path_letter_data_cer)\n",
        "data_train_cer, _ = findAllSeqs(path_train_data_cer, extension='.wav')\n",
        "dataset_train_non_aligned = SingleSequenceDataset(path_train_data_cer, data_train_cer, letters_labels)\n",
        "\n",
        "data_val_cer, _ = findAllSeqs(path_val_data_cer, extension='.wav')\n",
        "dataset_val_non_aligned = SingleSequenceDataset(path_val_data_cer, data_val_cer, letters_labels)\n",
        "\n",
        "data_test_cer, _ = findAllSeqs(path_test_data_cer, extension='.wav')\n",
        "dataset_test_non_aligned = SingleSequenceDataset(path_test_data_cer,data_test_cer,letters_labels)\n",
        "\n",
        "# The data loader will generate a tuple of tensors data, labels for each batch\n",
        "# data : size N x T1 x 1 : the audio sequence\n",
        "# label : size N x T2 the sequence of letters corresponding to the audio data\n",
        "# IMPORTANT NOTE: just like the PER the CER is computed with non-aligned phone data.\n",
        "\n",
        "data_loader_train_letters = torch.utils.data.DataLoader(dataset_train_non_aligned, batch_size=BATCH_SIZE,shuffle=True)\n",
        "data_loader_val_letters = torch.utils.data.DataLoader(dataset_val_non_aligned, batch_size=BATCH_SIZE,shuffle=True)\n",
        "data_loader_test_letters = torch.utils.data.DataLoader(dataset_test_non_aligned,batch_size=BATCH_SIZE,shuffle=True)"
      ],
      "execution_count": 110,
      "outputs": [
        {
          "output_type": "stream",
          "text": [
            "1it [00:00, 142.22it/s]"
          ],
          "name": "stderr"
        },
        {
          "output_type": "stream",
          "text": [
            "/content/CPC_audio\n",
            "Saved cache file at /content/gdrive/My Drive/Datasets/data/records/train/_seqs_cache.txt\n"
          ],
          "name": "stdout"
        },
        {
          "output_type": "stream",
          "text": [
            "\n",
            "1it [00:00, 216.54it/s]"
          ],
          "name": "stderr"
        },
        {
          "output_type": "stream",
          "text": [
            "Loaded 333 sequences in 6.43 seconds\n",
            "maxSizeSeq : 299838\n",
            "maxSizePhone : 173\n",
            "minSizePhone : 11\n",
            "Total size dataset 0.6694626736111111 hours\n",
            "Saved cache file at /content/gdrive/My Drive/Datasets/data/records/val/_seqs_cache.txt\n"
          ],
          "name": "stdout"
        },
        {
          "output_type": "stream",
          "text": [
            "\n",
            "1it [00:00, 110.97it/s]"
          ],
          "name": "stderr"
        },
        {
          "output_type": "stream",
          "text": [
            "Loaded 83 sequences in 2.38 seconds\n",
            "maxSizeSeq : 224697\n",
            "maxSizePhone : 120\n",
            "minSizePhone : 8\n",
            "Total size dataset 0.1556303298611111 hours\n",
            "Saved cache file at /content/gdrive/My Drive/Datasets/data/records/test/_seqs_cache.txt\n"
          ],
          "name": "stdout"
        },
        {
          "output_type": "stream",
          "text": [
            "\n"
          ],
          "name": "stderr"
        },
        {
          "output_type": "stream",
          "text": [
            "Loaded 416 sequences in 4.98 seconds\n",
            "maxSizeSeq : 288585\n",
            "maxSizePhone : 172\n",
            "minSizePhone : 13\n",
            "Total size dataset 0.8386270138888889 hours\n"
          ],
          "name": "stdout"
        }
      ]
    },
    {
      "cell_type": "code",
      "metadata": {
        "colab_type": "code",
        "id": "9h07zI2LjzAU",
        "colab": {
          "base_uri": "https://localhost:8080/",
          "height": 52
        },
        "outputId": "c3c133fb-4d90-4207-bd64-84e86e8cb370"
      },
      "source": [
        "from cpc.feature_loader import loadModel\n",
        "\n",
        "checkpoint_path = 'checkpoint_data/checkpoint_30.pt'\n",
        "cpc_model, HIDDEN_CONTEXT_MODEL, HIDDEN_ENCODER_MODEL = loadModel([checkpoint_path])\n",
        "cpc_model = cpc_model.cuda()\n",
        "character_classifier = PhoneClassifier(HIDDEN_CONTEXT_MODEL, N_LETTERS).to(device)"
      ],
      "execution_count": 111,
      "outputs": [
        {
          "output_type": "stream",
          "text": [
            "Loading checkpoint checkpoint_data/checkpoint_30.pt\n",
            "Loading the state dict at checkpoint_data/checkpoint_30.pt\n"
          ],
          "name": "stdout"
        }
      ]
    },
    {
      "cell_type": "code",
      "metadata": {
        "colab_type": "code",
        "id": "rHCNg1E7lW1L",
        "colab": {}
      },
      "source": [
        "parameters = list(character_classifier.parameters()) + list(cpc_model.parameters())\n",
        "LEARNING_RATE = 1e-3\n",
        "optimizer = torch.optim.Adam(parameters, lr=LEARNING_RATE)\n",
        "\n",
        "optimizer_frozen = torch.optim.Adam(list(character_classifier.parameters()), lr=LEARNING_RATE)"
      ],
      "execution_count": 112,
      "outputs": []
    },
    {
      "cell_type": "code",
      "metadata": {
        "colab_type": "code",
        "id": "engpkljbk9hj",
        "colab": {}
      },
      "source": [
        "loss_ctc = torch.nn.CTCLoss()"
      ],
      "execution_count": 58,
      "outputs": []
    },
    {
      "cell_type": "code",
      "metadata": {
        "colab_type": "code",
        "id": "9NBHd2s2kxld",
        "colab": {
          "base_uri": "https://localhost:8080/",
          "height": 35
        },
        "outputId": "59b85cfd-4592-4fa4-a8b0-40926d0c9b61"
      },
      "source": [
        "run_ctc(cpc_model,character_classifier,loss_ctc,data_loader_train_letters,data_loader_val_letters,optimizer_frozen,n_epoch=10)"
      ],
      "execution_count": null,
      "outputs": [
        {
          "output_type": "stream",
          "text": [
            "Running epoch 1 / 10\n"
          ],
          "name": "stdout"
        }
      ]
    },
    {
      "cell_type": "code",
      "metadata": {
        "colab_type": "code",
        "id": "A8oxFr1jm17P",
        "colab": {}
      },
      "source": [
        "get_per(data_loader_val_letters,cpc_model,character_classifier)"
      ],
      "execution_count": null,
      "outputs": []
    },
    {
      "cell_type": "code",
      "metadata": {
        "id": "dbmfpeLOUvOm",
        "colab_type": "code",
        "colab": {}
      },
      "source": [
        "get_per(data_loader_test_letters,cpc_model,character_classifier)"
      ],
      "execution_count": null,
      "outputs": []
    }
  ]
}